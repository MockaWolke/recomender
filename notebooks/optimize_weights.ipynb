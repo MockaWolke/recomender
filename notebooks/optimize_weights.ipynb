{
 "cells": [
  {
   "cell_type": "code",
   "execution_count": 1,
   "metadata": {},
   "outputs": [
    {
     "name": "stderr",
     "output_type": "stream",
     "text": [
      "/Users/fhammer/miniconda3/envs/reco/lib/python3.10/site-packages/tqdm/auto.py:21: TqdmWarning: IProgress not found. Please update jupyter and ipywidgets. See https://ipywidgets.readthedocs.io/en/stable/user_install.html\n",
      "  from .autonotebook import tqdm as notebook_tqdm\n"
     ]
    }
   ],
   "source": [
    "from recommender.querying import CHROMA_Manager\n",
    "import recommender.api\n",
    "from recommender.api import db\n",
    "from recommender.querying.sql_models import Movie\n",
    "from recommender import REPO_PATH\n",
    "from recommender.python_queue.job import generate_recommendations\n",
    "from recommender.recommenders import CombinedRecommender\n",
    "import json\n",
    "import optuna"
   ]
  },
  {
   "cell_type": "code",
   "execution_count": 2,
   "metadata": {},
   "outputs": [
    {
     "data": {
      "text/plain": [
       "['Gladiator',\n",
       " 'Jurassic Park',\n",
       " 'Memento',\n",
       " 'Pretty Woman',\n",
       " 'Pulp Fiction',\n",
       " 'Shawshank Redemption, The',\n",
       " 'Star Wars: Episode IV - A New Hope',\n",
       " 'Toy Story']"
      ]
     },
     "execution_count": 2,
     "metadata": {},
     "output_type": "execute_result"
    }
   ],
   "source": [
    "with open(REPO_PATH / \"rating_movies.json\") as f:\n",
    "    rating_movies = json.load(f)\n",
    "\n",
    "\n",
    "EXAMPLE_MOVIES = Movie.query.filter(Movie.title.in_(rating_movies)).all()\n",
    "\n",
    "MY_RATINGS = [4,2,5,1,5,4,3,2]\n",
    "\n",
    "[i.title for i in EXAMPLE_MOVIES]"
   ]
  },
  {
   "cell_type": "code",
   "execution_count": 3,
   "metadata": {},
   "outputs": [],
   "source": [
    "movies_i_like = [\n",
    "    \"Blade Runner\",\n",
    "    \"Inception\",\n",
    "    \"Fight Club\",\n",
    "    \"Old Boy,\" \"American Beauty\",\n",
    "    \"Fargo\",\n",
    "    \"Interstellar\",\n",
    "    \"Batman Begins\",\n",
    "    \"Silence of the Lambs, The\",\n",
    "    \"Schindler's List\",\n",
    "]"
   ]
  },
  {
   "cell_type": "code",
   "execution_count": 4,
   "metadata": {},
   "outputs": [],
   "source": [
    "weights = {\n",
    "    \"user\": 1.2,\n",
    "    \"content\": 4,\n",
    "    \"user_weights\": {\n",
    "        \"default_vec_val\": 2.5,\n",
    "        \"closest_relevant_users\": 5,\n",
    "    },\n",
    "    \"content_weights\": {\n",
    "        \"directors\": 1,\n",
    "        \"actors\": 0.2,\n",
    "        \"plots\": 1.2,\n",
    "    }\n",
    "}"
   ]
  },
  {
   "cell_type": "code",
   "execution_count": 5,
   "metadata": {},
   "outputs": [],
   "source": [
    "\n",
    "def objective(trial : optuna.trial):\n",
    "    \n",
    "    user = trial.suggest_float('user', 0.2, 120)\n",
    "    content = trial.suggest_float('content', 0.2, 20)\n",
    "    closest_relevant_users = trial.suggest_int('closest_relevant_users', 3, 13)\n",
    "    directors = trial.suggest_float('directors', 0.2, 10)\n",
    "    actors = trial.suggest_float('actors', 0.2, 10)\n",
    "    plots = trial.suggest_float('plots', 0.2, 10)\n",
    "    \n",
    "    \n",
    "    CombinedRecommender.weights[\"user\"] = user\n",
    "    CombinedRecommender.weights[\"content\"] = content\n",
    "    CombinedRecommender.weights[\"content_weights\"] =  {\n",
    "        \"directors\": directors,\n",
    "        \"actors\":  actors,\n",
    "        \"plots\":  plots,\n",
    "    }\n",
    "    CombinedRecommender.weights[\"user_weights\"][\"closest_relevant_users\"] = closest_relevant_users\n",
    "\n",
    "    recommender = CombinedRecommender(db)\n",
    "    recommendations = recommender.find_most_simmilar(EXAMPLE_MOVIES,MY_RATINGS)\n",
    "    \n",
    "    loss = 0\n",
    "    \n",
    "    for i,movie in enumerate(recommendations[0][:50]):\n",
    "        \n",
    "        try:\n",
    "            og_pos = movies_i_like.index(movie.title)\n",
    "            print(\"found \", movie.title)\n",
    "            og_pos_weight = (len(movies_i_like) - og_pos) * 2\n",
    "            \n",
    "            reco_weigth = (50 - i)**3\n",
    "            print(og_pos_weight, reco_weigth, i , og_pos)\n",
    "            loss -= reco_weigth * og_pos_weight\n",
    "\n",
    "\n",
    "        except ValueError:\n",
    "            continue\n",
    "\n",
    "    return loss\n"
   ]
  },
  {
   "cell_type": "code",
   "execution_count": 6,
   "metadata": {},
   "outputs": [
    {
     "name": "stderr",
     "output_type": "stream",
     "text": [
      "[I 2023-12-22 17:49:13,352] A new study created in memory with name: no-name-01785c66-0dd3-42b5-b4b5-ba72ccb8f871\n",
      "\u001b[32m2023-12-22 17:49:24.687\u001b[0m | \u001b[34m\u001b[1mDEBUG   \u001b[0m | \u001b[36mrecommender.recommenders.combined_recommender\u001b[0m:\u001b[36mfind_most_simmilar\u001b[0m:\u001b[36m40\u001b[0m - \u001b[34m\u001b[1mUser Based Recommendation took 11.332072019577026\u001b[0m\n",
      "\u001b[32m2023-12-22 17:49:25.019\u001b[0m | \u001b[1mINFO    \u001b[0m | \u001b[36mrecommender.recommenders.content_based_recommender\u001b[0m:\u001b[36mget_scores\u001b[0m:\u001b[36m88\u001b[0m - \u001b[1mdirecor 0.3319518566131592\u001b[0m\n",
      "\u001b[32m2023-12-22 17:49:30.748\u001b[0m | \u001b[1mINFO    \u001b[0m | \u001b[36mrecommender.recommenders.content_based_recommender\u001b[0m:\u001b[36mget_scores\u001b[0m:\u001b[36m105\u001b[0m - \u001b[1mactors 5.7277209758758545\u001b[0m\n",
      "\u001b[32m2023-12-22 17:49:31.042\u001b[0m | \u001b[1mINFO    \u001b[0m | \u001b[36mrecommender.recommenders.content_based_recommender\u001b[0m:\u001b[36mget_scores\u001b[0m:\u001b[36m114\u001b[0m - \u001b[1mplots 0.29327988624572754\u001b[0m\n",
      "\u001b[32m2023-12-22 17:49:31.043\u001b[0m | \u001b[1mINFO    \u001b[0m | \u001b[36mrecommender.recommenders.content_based_recommender\u001b[0m:\u001b[36mfind_most_simmilar\u001b[0m:\u001b[36m34\u001b[0m - \u001b[1mthe scores 6.3550450801849365\u001b[0m\n",
      "\u001b[32m2023-12-22 17:49:31.043\u001b[0m | \u001b[34m\u001b[1mDEBUG   \u001b[0m | \u001b[36mrecommender.recommenders.combined_recommender\u001b[0m:\u001b[36mfind_most_simmilar\u001b[0m:\u001b[36m46\u001b[0m - \u001b[34m\u001b[1mContent Based Recommendation took 6.355993032455444\u001b[0m\n",
      "[I 2023-12-22 17:49:31,049] Trial 0 finished with value: -2579716.0 and parameters: {'user': 22.531252703330285, 'content': 2.981346053775123, 'closest_relevant_users': 9, 'directors': 5.313986584790401, 'actors': 8.398063883815084, 'plots': 4.837776270285115}. Best is trial 0 with value: -2579716.0.\n"
     ]
    },
    {
     "name": "stdout",
     "output_type": "stream",
     "text": [
      "found  Fargo\n",
      "10 110592 2 4\n",
      "found  Fight Club\n",
      "14 85184 6 2\n",
      "found  Silence of the Lambs, The\n",
      "4 50653 13 7\n",
      "found  Schindler's List\n",
      "2 39304 16 8\n"
     ]
    },
    {
     "name": "stderr",
     "output_type": "stream",
     "text": [
      "\u001b[32m2023-12-22 17:49:34.533\u001b[0m | \u001b[34m\u001b[1mDEBUG   \u001b[0m | \u001b[36mrecommender.recommenders.combined_recommender\u001b[0m:\u001b[36mfind_most_simmilar\u001b[0m:\u001b[36m40\u001b[0m - \u001b[34m\u001b[1mUser Based Recommendation took 3.4835410118103027\u001b[0m\n",
      "\u001b[32m2023-12-22 17:49:34.866\u001b[0m | \u001b[1mINFO    \u001b[0m | \u001b[36mrecommender.recommenders.content_based_recommender\u001b[0m:\u001b[36mget_scores\u001b[0m:\u001b[36m88\u001b[0m - \u001b[1mdirecor 0.3316061496734619\u001b[0m\n",
      "\u001b[32m2023-12-22 17:49:40.414\u001b[0m | \u001b[1mINFO    \u001b[0m | \u001b[36mrecommender.recommenders.content_based_recommender\u001b[0m:\u001b[36mget_scores\u001b[0m:\u001b[36m105\u001b[0m - \u001b[1mactors 5.547663927078247\u001b[0m\n",
      "\u001b[32m2023-12-22 17:49:40.711\u001b[0m | \u001b[1mINFO    \u001b[0m | \u001b[36mrecommender.recommenders.content_based_recommender\u001b[0m:\u001b[36mget_scores\u001b[0m:\u001b[36m114\u001b[0m - \u001b[1mplots 0.2960519790649414\u001b[0m\n",
      "\u001b[32m2023-12-22 17:49:40.711\u001b[0m | \u001b[1mINFO    \u001b[0m | \u001b[36mrecommender.recommenders.content_based_recommender\u001b[0m:\u001b[36mfind_most_simmilar\u001b[0m:\u001b[36m34\u001b[0m - \u001b[1mthe scores 6.177325010299683\u001b[0m\n",
      "\u001b[32m2023-12-22 17:49:40.712\u001b[0m | \u001b[34m\u001b[1mDEBUG   \u001b[0m | \u001b[36mrecommender.recommenders.combined_recommender\u001b[0m:\u001b[36mfind_most_simmilar\u001b[0m:\u001b[36m46\u001b[0m - \u001b[34m\u001b[1mContent Based Recommendation took 6.178447246551514\u001b[0m\n",
      "[I 2023-12-22 17:49:40,718] Trial 1 finished with value: -2090842.0 and parameters: {'user': 72.67173420341939, 'content': 19.837042535725278, 'closest_relevant_users': 9, 'directors': 2.33709635394928, 'actors': 9.739742942849164, 'plots': 4.547959288955119}. Best is trial 0 with value: -2579716.0.\n"
     ]
    },
    {
     "name": "stdout",
     "output_type": "stream",
     "text": [
      "found  Fargo\n",
      "10 103823 3 4\n",
      "found  Fight Club\n",
      "14 54872 12 2\n",
      "found  Silence of the Lambs, The\n",
      "4 32768 18 7\n",
      "found  Schindler's List\n",
      "2 29791 19 8\n",
      "found  Batman Begins\n",
      "6 15625 25 6\n"
     ]
    },
    {
     "name": "stderr",
     "output_type": "stream",
     "text": [
      "\u001b[32m2023-12-22 17:49:52.539\u001b[0m | \u001b[34m\u001b[1mDEBUG   \u001b[0m | \u001b[36mrecommender.recommenders.combined_recommender\u001b[0m:\u001b[36mfind_most_simmilar\u001b[0m:\u001b[36m40\u001b[0m - \u001b[34m\u001b[1mUser Based Recommendation took 11.820337057113647\u001b[0m\n",
      "\u001b[32m2023-12-22 17:49:52.887\u001b[0m | \u001b[1mINFO    \u001b[0m | \u001b[36mrecommender.recommenders.content_based_recommender\u001b[0m:\u001b[36mget_scores\u001b[0m:\u001b[36m88\u001b[0m - \u001b[1mdirecor 0.34772562980651855\u001b[0m\n",
      "\u001b[32m2023-12-22 17:49:58.614\u001b[0m | \u001b[1mINFO    \u001b[0m | \u001b[36mrecommender.recommenders.content_based_recommender\u001b[0m:\u001b[36mget_scores\u001b[0m:\u001b[36m105\u001b[0m - \u001b[1mactors 5.725843906402588\u001b[0m\n",
      "\u001b[32m2023-12-22 17:49:58.918\u001b[0m | \u001b[1mINFO    \u001b[0m | \u001b[36mrecommender.recommenders.content_based_recommender\u001b[0m:\u001b[36mget_scores\u001b[0m:\u001b[36m114\u001b[0m - \u001b[1mplots 0.3036198616027832\u001b[0m\n",
      "\u001b[32m2023-12-22 17:49:58.919\u001b[0m | \u001b[1mINFO    \u001b[0m | \u001b[36mrecommender.recommenders.content_based_recommender\u001b[0m:\u001b[36mfind_most_simmilar\u001b[0m:\u001b[36m34\u001b[0m - \u001b[1mthe scores 6.379108905792236\u001b[0m\n",
      "\u001b[32m2023-12-22 17:49:58.920\u001b[0m | \u001b[34m\u001b[1mDEBUG   \u001b[0m | \u001b[36mrecommender.recommenders.combined_recommender\u001b[0m:\u001b[36mfind_most_simmilar\u001b[0m:\u001b[36m46\u001b[0m - \u001b[34m\u001b[1mContent Based Recommendation took 6.3800389766693115\u001b[0m\n",
      "[I 2023-12-22 17:49:58,925] Trial 2 finished with value: -2544650.0 and parameters: {'user': 31.526032191567968, 'content': 7.139754846959873, 'closest_relevant_users': 7, 'directors': 9.9072175605824, 'actors': 7.525173087122874, 'plots': 7.061009129898913}. Best is trial 0 with value: -2579716.0.\n"
     ]
    },
    {
     "name": "stdout",
     "output_type": "stream",
     "text": [
      "found  Fight Club\n",
      "14 97336 4 2\n",
      "found  Fargo\n",
      "10 68921 9 4\n",
      "found  Silence of the Lambs, The\n",
      "4 64000 10 7\n",
      "found  Schindler's List\n",
      "2 59319 11 8\n",
      "found  Batman Begins\n",
      "6 19683 23 6\n"
     ]
    },
    {
     "name": "stderr",
     "output_type": "stream",
     "text": [
      "\u001b[32m2023-12-22 17:50:10.945\u001b[0m | \u001b[34m\u001b[1mDEBUG   \u001b[0m | \u001b[36mrecommender.recommenders.combined_recommender\u001b[0m:\u001b[36mfind_most_simmilar\u001b[0m:\u001b[36m40\u001b[0m - \u001b[34m\u001b[1mUser Based Recommendation took 12.019277811050415\u001b[0m\n",
      "\u001b[32m2023-12-22 17:50:11.289\u001b[0m | \u001b[1mINFO    \u001b[0m | \u001b[36mrecommender.recommenders.content_based_recommender\u001b[0m:\u001b[36mget_scores\u001b[0m:\u001b[36m88\u001b[0m - \u001b[1mdirecor 0.34313011169433594\u001b[0m\n",
      "\u001b[32m2023-12-22 17:50:17.009\u001b[0m | \u001b[1mINFO    \u001b[0m | \u001b[36mrecommender.recommenders.content_based_recommender\u001b[0m:\u001b[36mget_scores\u001b[0m:\u001b[36m105\u001b[0m - \u001b[1mactors 5.719577074050903\u001b[0m\n",
      "\u001b[32m2023-12-22 17:50:17.311\u001b[0m | \u001b[1mINFO    \u001b[0m | \u001b[36mrecommender.recommenders.content_based_recommender\u001b[0m:\u001b[36mget_scores\u001b[0m:\u001b[36m114\u001b[0m - \u001b[1mplots 0.3008542060852051\u001b[0m\n",
      "\u001b[32m2023-12-22 17:50:17.312\u001b[0m | \u001b[1mINFO    \u001b[0m | \u001b[36mrecommender.recommenders.content_based_recommender\u001b[0m:\u001b[36mfind_most_simmilar\u001b[0m:\u001b[36m34\u001b[0m - \u001b[1mthe scores 6.365828037261963\u001b[0m\n",
      "\u001b[32m2023-12-22 17:50:17.313\u001b[0m | \u001b[34m\u001b[1mDEBUG   \u001b[0m | \u001b[36mrecommender.recommenders.combined_recommender\u001b[0m:\u001b[36mfind_most_simmilar\u001b[0m:\u001b[36m46\u001b[0m - \u001b[34m\u001b[1mContent Based Recommendation took 6.3666932582855225\u001b[0m\n",
      "[I 2023-12-22 17:50:17,318] Trial 3 finished with value: -1067306.0 and parameters: {'user': 21.041279200041778, 'content': 11.546444417646427, 'closest_relevant_users': 9, 'directors': 0.9575955399380298, 'actors': 9.585250278983272, 'plots': 9.328445715058862}. Best is trial 0 with value: -2579716.0.\n"
     ]
    },
    {
     "name": "stdout",
     "output_type": "stream",
     "text": [
      "found  Fargo\n",
      "10 64000 10 4\n",
      "found  Batman Begins\n",
      "6 54872 12 6\n",
      "found  Fight Club\n",
      "14 6859 31 2\n",
      "found  Silence of the Lambs, The\n",
      "4 512 42 7\n"
     ]
    },
    {
     "name": "stderr",
     "output_type": "stream",
     "text": [
      "\u001b[32m2023-12-22 17:50:21.019\u001b[0m | \u001b[34m\u001b[1mDEBUG   \u001b[0m | \u001b[36mrecommender.recommenders.combined_recommender\u001b[0m:\u001b[36mfind_most_simmilar\u001b[0m:\u001b[36m40\u001b[0m - \u001b[34m\u001b[1mUser Based Recommendation took 3.700307846069336\u001b[0m\n",
      "\u001b[32m2023-12-22 17:50:21.365\u001b[0m | \u001b[1mINFO    \u001b[0m | \u001b[36mrecommender.recommenders.content_based_recommender\u001b[0m:\u001b[36mget_scores\u001b[0m:\u001b[36m88\u001b[0m - \u001b[1mdirecor 0.34569287300109863\u001b[0m\n",
      "\u001b[32m2023-12-22 17:50:27.301\u001b[0m | \u001b[1mINFO    \u001b[0m | \u001b[36mrecommender.recommenders.content_based_recommender\u001b[0m:\u001b[36mget_scores\u001b[0m:\u001b[36m105\u001b[0m - \u001b[1mactors 5.93507981300354\u001b[0m\n",
      "\u001b[32m2023-12-22 17:50:27.604\u001b[0m | \u001b[1mINFO    \u001b[0m | \u001b[36mrecommender.recommenders.content_based_recommender\u001b[0m:\u001b[36mget_scores\u001b[0m:\u001b[36m114\u001b[0m - \u001b[1mplots 0.3021659851074219\u001b[0m\n",
      "\u001b[32m2023-12-22 17:50:27.605\u001b[0m | \u001b[1mINFO    \u001b[0m | \u001b[36mrecommender.recommenders.content_based_recommender\u001b[0m:\u001b[36mfind_most_simmilar\u001b[0m:\u001b[36m34\u001b[0m - \u001b[1mthe scores 6.584782123565674\u001b[0m\n",
      "\u001b[32m2023-12-22 17:50:27.606\u001b[0m | \u001b[34m\u001b[1mDEBUG   \u001b[0m | \u001b[36mrecommender.recommenders.combined_recommender\u001b[0m:\u001b[36mfind_most_simmilar\u001b[0m:\u001b[36m46\u001b[0m - \u001b[34m\u001b[1mContent Based Recommendation took 6.585734128952026\u001b[0m\n",
      "[I 2023-12-22 17:50:27,623] Trial 4 finished with value: -2495168.0 and parameters: {'user': 75.35068239247771, 'content': 14.494690298673046, 'closest_relevant_users': 3, 'directors': 4.370981631136934, 'actors': 9.374535519696222, 'plots': 0.7463081279938784}. Best is trial 0 with value: -2579716.0.\n"
     ]
    },
    {
     "name": "stdout",
     "output_type": "stream",
     "text": [
      "found  Fargo\n",
      "10 97336 4 4\n",
      "found  Fight Club\n",
      "14 85184 6 2\n",
      "found  Batman Begins\n",
      "6 54872 12 6\n"
     ]
    },
    {
     "name": "stderr",
     "output_type": "stream",
     "text": [
      "\u001b[32m2023-12-22 17:50:39.106\u001b[0m | \u001b[34m\u001b[1mDEBUG   \u001b[0m | \u001b[36mrecommender.recommenders.combined_recommender\u001b[0m:\u001b[36mfind_most_simmilar\u001b[0m:\u001b[36m40\u001b[0m - \u001b[34m\u001b[1mUser Based Recommendation took 11.482066869735718\u001b[0m\n",
      "\u001b[32m2023-12-22 17:50:39.459\u001b[0m | \u001b[1mINFO    \u001b[0m | \u001b[36mrecommender.recommenders.content_based_recommender\u001b[0m:\u001b[36mget_scores\u001b[0m:\u001b[36m88\u001b[0m - \u001b[1mdirecor 0.3527390956878662\u001b[0m\n",
      "\u001b[32m2023-12-22 17:50:45.251\u001b[0m | \u001b[1mINFO    \u001b[0m | \u001b[36mrecommender.recommenders.content_based_recommender\u001b[0m:\u001b[36mget_scores\u001b[0m:\u001b[36m105\u001b[0m - \u001b[1mactors 5.791040897369385\u001b[0m\n",
      "\u001b[32m2023-12-22 17:50:45.557\u001b[0m | \u001b[1mINFO    \u001b[0m | \u001b[36mrecommender.recommenders.content_based_recommender\u001b[0m:\u001b[36mget_scores\u001b[0m:\u001b[36m114\u001b[0m - \u001b[1mplots 0.3050520420074463\u001b[0m\n",
      "\u001b[32m2023-12-22 17:50:45.558\u001b[0m | \u001b[1mINFO    \u001b[0m | \u001b[36mrecommender.recommenders.content_based_recommender\u001b[0m:\u001b[36mfind_most_simmilar\u001b[0m:\u001b[36m34\u001b[0m - \u001b[1mthe scores 6.451732158660889\u001b[0m\n",
      "\u001b[32m2023-12-22 17:50:45.559\u001b[0m | \u001b[34m\u001b[1mDEBUG   \u001b[0m | \u001b[36mrecommender.recommenders.combined_recommender\u001b[0m:\u001b[36mfind_most_simmilar\u001b[0m:\u001b[36m46\u001b[0m - \u001b[34m\u001b[1mContent Based Recommendation took 6.452864646911621\u001b[0m\n",
      "[I 2023-12-22 17:50:45,565] Trial 5 finished with value: -2988592.0 and parameters: {'user': 82.13985343703875, 'content': 15.892773925959267, 'closest_relevant_users': 5, 'directors': 0.9971069873583209, 'actors': 1.7274311855485553, 'plots': 7.518190171729714}. Best is trial 5 with value: -2988592.0.\n"
     ]
    },
    {
     "name": "stdout",
     "output_type": "stream",
     "text": [
      "found  Fight Club\n",
      "14 125000 0 2\n",
      "found  Fargo\n",
      "10 97336 4 4\n",
      "found  Silence of the Lambs, The\n",
      "4 46656 14 7\n",
      "found  Schindler's List\n",
      "2 39304 16 8\n"
     ]
    },
    {
     "name": "stderr",
     "output_type": "stream",
     "text": [
      "\u001b[32m2023-12-22 17:50:57.601\u001b[0m | \u001b[34m\u001b[1mDEBUG   \u001b[0m | \u001b[36mrecommender.recommenders.combined_recommender\u001b[0m:\u001b[36mfind_most_simmilar\u001b[0m:\u001b[36m40\u001b[0m - \u001b[34m\u001b[1mUser Based Recommendation took 12.035626888275146\u001b[0m\n",
      "\u001b[32m2023-12-22 17:50:57.960\u001b[0m | \u001b[1mINFO    \u001b[0m | \u001b[36mrecommender.recommenders.content_based_recommender\u001b[0m:\u001b[36mget_scores\u001b[0m:\u001b[36m88\u001b[0m - \u001b[1mdirecor 0.35750603675842285\u001b[0m\n",
      "\u001b[32m2023-12-22 17:51:03.885\u001b[0m | \u001b[1mINFO    \u001b[0m | \u001b[36mrecommender.recommenders.content_based_recommender\u001b[0m:\u001b[36mget_scores\u001b[0m:\u001b[36m105\u001b[0m - \u001b[1mactors 5.924576044082642\u001b[0m\n",
      "\u001b[32m2023-12-22 17:51:04.209\u001b[0m | \u001b[1mINFO    \u001b[0m | \u001b[36mrecommender.recommenders.content_based_recommender\u001b[0m:\u001b[36mget_scores\u001b[0m:\u001b[36m114\u001b[0m - \u001b[1mplots 0.3229820728302002\u001b[0m\n",
      "\u001b[32m2023-12-22 17:51:04.210\u001b[0m | \u001b[1mINFO    \u001b[0m | \u001b[36mrecommender.recommenders.content_based_recommender\u001b[0m:\u001b[36mfind_most_simmilar\u001b[0m:\u001b[36m34\u001b[0m - \u001b[1mthe scores 6.607244968414307\u001b[0m\n",
      "\u001b[32m2023-12-22 17:51:04.211\u001b[0m | \u001b[34m\u001b[1mDEBUG   \u001b[0m | \u001b[36mrecommender.recommenders.combined_recommender\u001b[0m:\u001b[36mfind_most_simmilar\u001b[0m:\u001b[36m46\u001b[0m - \u001b[34m\u001b[1mContent Based Recommendation took 6.608179092407227\u001b[0m\n",
      "[I 2023-12-22 17:51:04,217] Trial 6 finished with value: -2913558.0 and parameters: {'user': 53.95144706517362, 'content': 3.386265220591742, 'closest_relevant_users': 8, 'directors': 1.0195952433575266, 'actors': 0.28194315171647666, 'plots': 5.522868926010309}. Best is trial 5 with value: -2988592.0.\n"
     ]
    },
    {
     "name": "stdout",
     "output_type": "stream",
     "text": [
      "found  Fight Club\n",
      "14 125000 0 2\n",
      "found  Silence of the Lambs, The\n",
      "4 110592 2 7\n",
      "found  Schindler's List\n",
      "2 64000 10 8\n",
      "found  Fargo\n",
      "10 59319 11 4\n"
     ]
    },
    {
     "name": "stderr",
     "output_type": "stream",
     "text": [
      "\u001b[32m2023-12-22 17:51:09.051\u001b[0m | \u001b[34m\u001b[1mDEBUG   \u001b[0m | \u001b[36mrecommender.recommenders.combined_recommender\u001b[0m:\u001b[36mfind_most_simmilar\u001b[0m:\u001b[36m40\u001b[0m - \u001b[34m\u001b[1mUser Based Recommendation took 4.833568811416626\u001b[0m\n",
      "\u001b[32m2023-12-22 17:51:09.395\u001b[0m | \u001b[1mINFO    \u001b[0m | \u001b[36mrecommender.recommenders.content_based_recommender\u001b[0m:\u001b[36mget_scores\u001b[0m:\u001b[36m88\u001b[0m - \u001b[1mdirecor 0.34363698959350586\u001b[0m\n",
      "\u001b[32m2023-12-22 17:51:15.303\u001b[0m | \u001b[1mINFO    \u001b[0m | \u001b[36mrecommender.recommenders.content_based_recommender\u001b[0m:\u001b[36mget_scores\u001b[0m:\u001b[36m105\u001b[0m - \u001b[1mactors 5.906628847122192\u001b[0m\n",
      "\u001b[32m2023-12-22 17:51:15.606\u001b[0m | \u001b[1mINFO    \u001b[0m | \u001b[36mrecommender.recommenders.content_based_recommender\u001b[0m:\u001b[36mget_scores\u001b[0m:\u001b[36m114\u001b[0m - \u001b[1mplots 0.302933931350708\u001b[0m\n",
      "\u001b[32m2023-12-22 17:51:15.607\u001b[0m | \u001b[1mINFO    \u001b[0m | \u001b[36mrecommender.recommenders.content_based_recommender\u001b[0m:\u001b[36mfind_most_simmilar\u001b[0m:\u001b[36m34\u001b[0m - \u001b[1mthe scores 6.555215835571289\u001b[0m\n",
      "\u001b[32m2023-12-22 17:51:15.608\u001b[0m | \u001b[34m\u001b[1mDEBUG   \u001b[0m | \u001b[36mrecommender.recommenders.combined_recommender\u001b[0m:\u001b[36mfind_most_simmilar\u001b[0m:\u001b[36m46\u001b[0m - \u001b[34m\u001b[1mContent Based Recommendation took 6.556256055831909\u001b[0m\n",
      "[I 2023-12-22 17:51:15,613] Trial 7 finished with value: -622938.0 and parameters: {'user': 0.2653949030949159, 'content': 14.314193950615149, 'closest_relevant_users': 6, 'directors': 3.3816199542271437, 'actors': 2.465977476964659, 'plots': 5.544508679460601}. Best is trial 5 with value: -2988592.0.\n"
     ]
    },
    {
     "name": "stdout",
     "output_type": "stream",
     "text": [
      "found  Batman Begins\n",
      "6 103823 3 6\n"
     ]
    },
    {
     "name": "stderr",
     "output_type": "stream",
     "text": [
      "\u001b[32m2023-12-22 17:51:19.302\u001b[0m | \u001b[34m\u001b[1mDEBUG   \u001b[0m | \u001b[36mrecommender.recommenders.combined_recommender\u001b[0m:\u001b[36mfind_most_simmilar\u001b[0m:\u001b[36m40\u001b[0m - \u001b[34m\u001b[1mUser Based Recommendation took 3.6879279613494873\u001b[0m\n",
      "\u001b[32m2023-12-22 17:51:19.650\u001b[0m | \u001b[1mINFO    \u001b[0m | \u001b[36mrecommender.recommenders.content_based_recommender\u001b[0m:\u001b[36mget_scores\u001b[0m:\u001b[36m88\u001b[0m - \u001b[1mdirecor 0.34749317169189453\u001b[0m\n",
      "\u001b[32m2023-12-22 17:51:25.569\u001b[0m | \u001b[1mINFO    \u001b[0m | \u001b[36mrecommender.recommenders.content_based_recommender\u001b[0m:\u001b[36mget_scores\u001b[0m:\u001b[36m105\u001b[0m - \u001b[1mactors 5.917999267578125\u001b[0m\n",
      "\u001b[32m2023-12-22 17:51:25.876\u001b[0m | \u001b[1mINFO    \u001b[0m | \u001b[36mrecommender.recommenders.content_based_recommender\u001b[0m:\u001b[36mget_scores\u001b[0m:\u001b[36m114\u001b[0m - \u001b[1mplots 0.30562806129455566\u001b[0m\n",
      "\u001b[32m2023-12-22 17:51:25.877\u001b[0m | \u001b[1mINFO    \u001b[0m | \u001b[36mrecommender.recommenders.content_based_recommender\u001b[0m:\u001b[36mfind_most_simmilar\u001b[0m:\u001b[36m34\u001b[0m - \u001b[1mthe scores 6.574088096618652\u001b[0m\n",
      "\u001b[32m2023-12-22 17:51:25.878\u001b[0m | \u001b[34m\u001b[1mDEBUG   \u001b[0m | \u001b[36mrecommender.recommenders.combined_recommender\u001b[0m:\u001b[36mfind_most_simmilar\u001b[0m:\u001b[36m46\u001b[0m - \u001b[34m\u001b[1mContent Based Recommendation took 6.575080871582031\u001b[0m\n",
      "[I 2023-12-22 17:51:25,885] Trial 8 finished with value: -2843818.0 and parameters: {'user': 108.93529343267463, 'content': 11.96383151899713, 'closest_relevant_users': 6, 'directors': 0.7117483285617028, 'actors': 1.4834972797699353, 'plots': 8.899226735798045}. Best is trial 5 with value: -2988592.0.\n"
     ]
    },
    {
     "name": "stdout",
     "output_type": "stream",
     "text": [
      "found  Fight Club\n",
      "14 125000 0 2\n",
      "found  Fargo\n",
      "10 85184 6 4\n",
      "found  Silence of the Lambs, The\n",
      "4 50653 13 7\n",
      "found  Schindler's List\n",
      "2 19683 23 8\n"
     ]
    },
    {
     "name": "stderr",
     "output_type": "stream",
     "text": [
      "\u001b[32m2023-12-22 17:51:38.086\u001b[0m | \u001b[34m\u001b[1mDEBUG   \u001b[0m | \u001b[36mrecommender.recommenders.combined_recommender\u001b[0m:\u001b[36mfind_most_simmilar\u001b[0m:\u001b[36m40\u001b[0m - \u001b[34m\u001b[1mUser Based Recommendation took 12.200100183486938\u001b[0m\n",
      "\u001b[32m2023-12-22 17:51:38.426\u001b[0m | \u001b[1mINFO    \u001b[0m | \u001b[36mrecommender.recommenders.content_based_recommender\u001b[0m:\u001b[36mget_scores\u001b[0m:\u001b[36m88\u001b[0m - \u001b[1mdirecor 0.3384881019592285\u001b[0m\n",
      "\u001b[32m2023-12-22 17:51:44.004\u001b[0m | \u001b[1mINFO    \u001b[0m | \u001b[36mrecommender.recommenders.content_based_recommender\u001b[0m:\u001b[36mget_scores\u001b[0m:\u001b[36m105\u001b[0m - \u001b[1mactors 5.578065872192383\u001b[0m\n",
      "\u001b[32m2023-12-22 17:51:44.299\u001b[0m | \u001b[1mINFO    \u001b[0m | \u001b[36mrecommender.recommenders.content_based_recommender\u001b[0m:\u001b[36mget_scores\u001b[0m:\u001b[36m114\u001b[0m - \u001b[1mplots 0.29422903060913086\u001b[0m\n",
      "\u001b[32m2023-12-22 17:51:44.300\u001b[0m | \u001b[1mINFO    \u001b[0m | \u001b[36mrecommender.recommenders.content_based_recommender\u001b[0m:\u001b[36mfind_most_simmilar\u001b[0m:\u001b[36m34\u001b[0m - \u001b[1mthe scores 6.212723255157471\u001b[0m\n",
      "\u001b[32m2023-12-22 17:51:44.301\u001b[0m | \u001b[34m\u001b[1mDEBUG   \u001b[0m | \u001b[36mrecommender.recommenders.combined_recommender\u001b[0m:\u001b[36mfind_most_simmilar\u001b[0m:\u001b[36m46\u001b[0m - \u001b[34m\u001b[1mContent Based Recommendation took 6.213720083236694\u001b[0m\n",
      "[I 2023-12-22 17:51:44,306] Trial 9 finished with value: -2914640.0 and parameters: {'user': 70.0993425251193, 'content': 6.735303681685636, 'closest_relevant_users': 11, 'directors': 3.0444729827144825, 'actors': 4.589338444230295, 'plots': 6.726008387028703}. Best is trial 5 with value: -2988592.0.\n"
     ]
    },
    {
     "name": "stdout",
     "output_type": "stream",
     "text": [
      "found  Fight Club\n",
      "14 125000 0 2\n",
      "found  Fargo\n",
      "10 85184 6 4\n",
      "found  Silence of the Lambs, The\n",
      "4 54872 12 7\n",
      "found  Schindler's List\n",
      "2 46656 14 8\n"
     ]
    },
    {
     "name": "stderr",
     "output_type": "stream",
     "text": [
      "\u001b[32m2023-12-22 17:51:47.868\u001b[0m | \u001b[34m\u001b[1mDEBUG   \u001b[0m | \u001b[36mrecommender.recommenders.combined_recommender\u001b[0m:\u001b[36mfind_most_simmilar\u001b[0m:\u001b[36m40\u001b[0m - \u001b[34m\u001b[1mUser Based Recommendation took 3.5514419078826904\u001b[0m\n",
      "\u001b[32m2023-12-22 17:51:48.208\u001b[0m | \u001b[1mINFO    \u001b[0m | \u001b[36mrecommender.recommenders.content_based_recommender\u001b[0m:\u001b[36mget_scores\u001b[0m:\u001b[36m88\u001b[0m - \u001b[1mdirecor 0.3394460678100586\u001b[0m\n",
      "\u001b[32m2023-12-22 17:51:53.944\u001b[0m | \u001b[1mINFO    \u001b[0m | \u001b[36mrecommender.recommenders.content_based_recommender\u001b[0m:\u001b[36mget_scores\u001b[0m:\u001b[36m105\u001b[0m - \u001b[1mactors 5.735406160354614\u001b[0m\n",
      "\u001b[32m2023-12-22 17:51:54.238\u001b[0m | \u001b[1mINFO    \u001b[0m | \u001b[36mrecommender.recommenders.content_based_recommender\u001b[0m:\u001b[36mget_scores\u001b[0m:\u001b[36m114\u001b[0m - \u001b[1mplots 0.2927670478820801\u001b[0m\n",
      "\u001b[32m2023-12-22 17:51:54.238\u001b[0m | \u001b[1mINFO    \u001b[0m | \u001b[36mrecommender.recommenders.content_based_recommender\u001b[0m:\u001b[36mfind_most_simmilar\u001b[0m:\u001b[36m34\u001b[0m - \u001b[1mthe scores 6.36994194984436\u001b[0m\n",
      "\u001b[32m2023-12-22 17:51:54.239\u001b[0m | \u001b[34m\u001b[1mDEBUG   \u001b[0m | \u001b[36mrecommender.recommenders.combined_recommender\u001b[0m:\u001b[36mfind_most_simmilar\u001b[0m:\u001b[36m46\u001b[0m - \u001b[34m\u001b[1mContent Based Recommendation took 6.370843172073364\u001b[0m\n",
      "[I 2023-12-22 17:51:54,255] Trial 10 finished with value: -2507904.0 and parameters: {'user': 109.66309927284912, 'content': 18.391153431307693, 'closest_relevant_users': 3, 'directors': 6.7172289565271335, 'actors': 4.075816247509766, 'plots': 2.5304270210831135}. Best is trial 5 with value: -2988592.0.\n"
     ]
    },
    {
     "name": "stdout",
     "output_type": "stream",
     "text": [
      "found  Fight Club\n",
      "14 103823 3 2\n",
      "found  Fargo\n",
      "10 97336 4 4\n",
      "found  Silence of the Lambs, The\n",
      "4 15625 25 7\n",
      "found  Schindler's List\n",
      "2 9261 29 8\n"
     ]
    },
    {
     "name": "stderr",
     "output_type": "stream",
     "text": [
      "\u001b[32m2023-12-22 17:52:06.421\u001b[0m | \u001b[34m\u001b[1mDEBUG   \u001b[0m | \u001b[36mrecommender.recommenders.combined_recommender\u001b[0m:\u001b[36mfind_most_simmilar\u001b[0m:\u001b[36m40\u001b[0m - \u001b[34m\u001b[1mUser Based Recommendation took 12.156242847442627\u001b[0m\n",
      "\u001b[32m2023-12-22 17:52:06.772\u001b[0m | \u001b[1mINFO    \u001b[0m | \u001b[36mrecommender.recommenders.content_based_recommender\u001b[0m:\u001b[36mget_scores\u001b[0m:\u001b[36m88\u001b[0m - \u001b[1mdirecor 0.3493502140045166\u001b[0m\n",
      "\u001b[32m2023-12-22 17:52:12.547\u001b[0m | \u001b[1mINFO    \u001b[0m | \u001b[36mrecommender.recommenders.content_based_recommender\u001b[0m:\u001b[36mget_scores\u001b[0m:\u001b[36m105\u001b[0m - \u001b[1mactors 5.774540901184082\u001b[0m\n",
      "\u001b[32m2023-12-22 17:52:12.841\u001b[0m | \u001b[1mINFO    \u001b[0m | \u001b[36mrecommender.recommenders.content_based_recommender\u001b[0m:\u001b[36mget_scores\u001b[0m:\u001b[36m114\u001b[0m - \u001b[1mplots 0.29339599609375\u001b[0m\n",
      "\u001b[32m2023-12-22 17:52:12.841\u001b[0m | \u001b[1mINFO    \u001b[0m | \u001b[36mrecommender.recommenders.content_based_recommender\u001b[0m:\u001b[36mfind_most_simmilar\u001b[0m:\u001b[36m34\u001b[0m - \u001b[1mthe scores 6.419102191925049\u001b[0m\n",
      "\u001b[32m2023-12-22 17:52:12.842\u001b[0m | \u001b[34m\u001b[1mDEBUG   \u001b[0m | \u001b[36mrecommender.recommenders.combined_recommender\u001b[0m:\u001b[36mfind_most_simmilar\u001b[0m:\u001b[36m46\u001b[0m - \u001b[34m\u001b[1mContent Based Recommendation took 6.4201130867004395\u001b[0m\n",
      "[I 2023-12-22 17:52:12,849] Trial 11 finished with value: -2927172.0 and parameters: {'user': 87.72170573689486, 'content': 6.1808163550997595, 'closest_relevant_users': 13, 'directors': 2.6554387488752718, 'actors': 5.981836566025765, 'plots': 7.611965248406843}. Best is trial 5 with value: -2988592.0.\n"
     ]
    },
    {
     "name": "stdout",
     "output_type": "stream",
     "text": [
      "found  Fight Club\n",
      "14 125000 0 2\n",
      "found  Fargo\n",
      "10 79507 7 4\n",
      "found  Silence of the Lambs, The\n",
      "4 74088 8 7\n",
      "found  Schindler's List\n",
      "2 42875 15 8\n"
     ]
    },
    {
     "name": "stderr",
     "output_type": "stream",
     "text": [
      "\u001b[32m2023-12-22 17:52:16.495\u001b[0m | \u001b[34m\u001b[1mDEBUG   \u001b[0m | \u001b[36mrecommender.recommenders.combined_recommender\u001b[0m:\u001b[36mfind_most_simmilar\u001b[0m:\u001b[36m40\u001b[0m - \u001b[34m\u001b[1mUser Based Recommendation took 3.6357228755950928\u001b[0m\n",
      "\u001b[32m2023-12-22 17:52:16.828\u001b[0m | \u001b[1mINFO    \u001b[0m | \u001b[36mrecommender.recommenders.content_based_recommender\u001b[0m:\u001b[36mget_scores\u001b[0m:\u001b[36m88\u001b[0m - \u001b[1mdirecor 0.3322641849517822\u001b[0m\n",
      "\u001b[32m2023-12-22 17:52:22.531\u001b[0m | \u001b[1mINFO    \u001b[0m | \u001b[36mrecommender.recommenders.content_based_recommender\u001b[0m:\u001b[36mget_scores\u001b[0m:\u001b[36m105\u001b[0m - \u001b[1mactors 5.702031135559082\u001b[0m\n",
      "\u001b[32m2023-12-22 17:52:22.824\u001b[0m | \u001b[1mINFO    \u001b[0m | \u001b[36mrecommender.recommenders.content_based_recommender\u001b[0m:\u001b[36mget_scores\u001b[0m:\u001b[36m114\u001b[0m - \u001b[1mplots 0.29309797286987305\u001b[0m\n",
      "\u001b[32m2023-12-22 17:52:22.825\u001b[0m | \u001b[1mINFO    \u001b[0m | \u001b[36mrecommender.recommenders.content_based_recommender\u001b[0m:\u001b[36mfind_most_simmilar\u001b[0m:\u001b[36m34\u001b[0m - \u001b[1mthe scores 6.329401969909668\u001b[0m\n",
      "\u001b[32m2023-12-22 17:52:22.826\u001b[0m | \u001b[34m\u001b[1mDEBUG   \u001b[0m | \u001b[36mrecommender.recommenders.combined_recommender\u001b[0m:\u001b[36mfind_most_simmilar\u001b[0m:\u001b[36m46\u001b[0m - \u001b[34m\u001b[1mContent Based Recommendation took 6.330298900604248\u001b[0m\n",
      "[I 2023-12-22 17:52:22,832] Trial 12 finished with value: -2927172.0 and parameters: {'user': 93.4869836585474, 'content': 0.3864746355852162, 'closest_relevant_users': 13, 'directors': 2.1911130023132985, 'actors': 6.347458037329913, 'plots': 7.860729306528846}. Best is trial 5 with value: -2988592.0.\n"
     ]
    },
    {
     "name": "stdout",
     "output_type": "stream",
     "text": [
      "found  Fight Club\n",
      "14 125000 0 2\n",
      "found  Fargo\n",
      "10 79507 7 4\n",
      "found  Silence of the Lambs, The\n",
      "4 74088 8 7\n",
      "found  Schindler's List\n",
      "2 42875 15 8\n"
     ]
    },
    {
     "name": "stderr",
     "output_type": "stream",
     "text": [
      "\u001b[32m2023-12-22 17:52:26.426\u001b[0m | \u001b[34m\u001b[1mDEBUG   \u001b[0m | \u001b[36mrecommender.recommenders.combined_recommender\u001b[0m:\u001b[36mfind_most_simmilar\u001b[0m:\u001b[36m40\u001b[0m - \u001b[34m\u001b[1mUser Based Recommendation took 3.5833683013916016\u001b[0m\n",
      "\u001b[32m2023-12-22 17:52:26.761\u001b[0m | \u001b[1mINFO    \u001b[0m | \u001b[36mrecommender.recommenders.content_based_recommender\u001b[0m:\u001b[36mget_scores\u001b[0m:\u001b[36m88\u001b[0m - \u001b[1mdirecor 0.3342583179473877\u001b[0m\n",
      "\u001b[32m2023-12-22 17:52:32.475\u001b[0m | \u001b[1mINFO    \u001b[0m | \u001b[36mrecommender.recommenders.content_based_recommender\u001b[0m:\u001b[36mget_scores\u001b[0m:\u001b[36m105\u001b[0m - \u001b[1mactors 5.713669300079346\u001b[0m\n",
      "\u001b[32m2023-12-22 17:52:32.768\u001b[0m | \u001b[1mINFO    \u001b[0m | \u001b[36mrecommender.recommenders.content_based_recommender\u001b[0m:\u001b[36mget_scores\u001b[0m:\u001b[36m114\u001b[0m - \u001b[1mplots 0.2924678325653076\u001b[0m\n",
      "\u001b[32m2023-12-22 17:52:32.769\u001b[0m | \u001b[1mINFO    \u001b[0m | \u001b[36mrecommender.recommenders.content_based_recommender\u001b[0m:\u001b[36mfind_most_simmilar\u001b[0m:\u001b[36m34\u001b[0m - \u001b[1mthe scores 6.342431306838989\u001b[0m\n",
      "\u001b[32m2023-12-22 17:52:32.770\u001b[0m | \u001b[34m\u001b[1mDEBUG   \u001b[0m | \u001b[36mrecommender.recommenders.combined_recommender\u001b[0m:\u001b[36mfind_most_simmilar\u001b[0m:\u001b[36m46\u001b[0m - \u001b[34m\u001b[1mContent Based Recommendation took 6.343287706375122\u001b[0m\n",
      "[I 2023-12-22 17:52:32,776] Trial 13 finished with value: -2927172.0 and parameters: {'user': 92.79557954237512, 'content': 8.012954717440277, 'closest_relevant_users': 13, 'directors': 6.015634182060764, 'actors': 6.117677619058737, 'plots': 9.856166082277053}. Best is trial 5 with value: -2988592.0.\n"
     ]
    },
    {
     "name": "stdout",
     "output_type": "stream",
     "text": [
      "found  Fight Club\n",
      "14 125000 0 2\n",
      "found  Fargo\n",
      "10 79507 7 4\n",
      "found  Silence of the Lambs, The\n",
      "4 74088 8 7\n",
      "found  Schindler's List\n",
      "2 42875 15 8\n"
     ]
    },
    {
     "name": "stderr",
     "output_type": "stream",
     "text": [
      "\u001b[32m2023-12-22 17:52:36.344\u001b[0m | \u001b[34m\u001b[1mDEBUG   \u001b[0m | \u001b[36mrecommender.recommenders.combined_recommender\u001b[0m:\u001b[36mfind_most_simmilar\u001b[0m:\u001b[36m40\u001b[0m - \u001b[34m\u001b[1mUser Based Recommendation took 3.5569989681243896\u001b[0m\n",
      "\u001b[32m2023-12-22 17:52:36.677\u001b[0m | \u001b[1mINFO    \u001b[0m | \u001b[36mrecommender.recommenders.content_based_recommender\u001b[0m:\u001b[36mget_scores\u001b[0m:\u001b[36m88\u001b[0m - \u001b[1mdirecor 0.33247995376586914\u001b[0m\n",
      "\u001b[32m2023-12-22 17:52:42.402\u001b[0m | \u001b[1mINFO    \u001b[0m | \u001b[36mrecommender.recommenders.content_based_recommender\u001b[0m:\u001b[36mget_scores\u001b[0m:\u001b[36m105\u001b[0m - \u001b[1mactors 5.7245378494262695\u001b[0m\n",
      "\u001b[32m2023-12-22 17:52:42.694\u001b[0m | \u001b[1mINFO    \u001b[0m | \u001b[36mrecommender.recommenders.content_based_recommender\u001b[0m:\u001b[36mget_scores\u001b[0m:\u001b[36m114\u001b[0m - \u001b[1mplots 0.29134583473205566\u001b[0m\n",
      "\u001b[32m2023-12-22 17:52:42.695\u001b[0m | \u001b[1mINFO    \u001b[0m | \u001b[36mrecommender.recommenders.content_based_recommender\u001b[0m:\u001b[36mfind_most_simmilar\u001b[0m:\u001b[36m34\u001b[0m - \u001b[1mthe scores 6.350369930267334\u001b[0m\n",
      "\u001b[32m2023-12-22 17:52:42.696\u001b[0m | \u001b[34m\u001b[1mDEBUG   \u001b[0m | \u001b[36mrecommender.recommenders.combined_recommender\u001b[0m:\u001b[36mfind_most_simmilar\u001b[0m:\u001b[36m46\u001b[0m - \u001b[34m\u001b[1mContent Based Recommendation took 6.351363182067871\u001b[0m\n",
      "[I 2023-12-22 17:52:42,704] Trial 14 finished with value: -2816256.0 and parameters: {'user': 51.80936456578511, 'content': 16.522634815603716, 'closest_relevant_users': 5, 'directors': 7.526377096492357, 'actors': 3.097723842484509, 'plots': 7.533725989381683}. Best is trial 5 with value: -2988592.0.\n"
     ]
    },
    {
     "name": "stdout",
     "output_type": "stream",
     "text": [
      "found  Fight Club\n",
      "14 125000 0 2\n",
      "found  Fargo\n",
      "10 85184 6 4\n",
      "found  Schindler's List\n",
      "2 39304 16 8\n",
      "found  Silence of the Lambs, The\n",
      "4 21952 22 7\n",
      "found  Batman Begins\n",
      "6 8000 30 6\n"
     ]
    },
    {
     "name": "stderr",
     "output_type": "stream",
     "text": [
      "\u001b[32m2023-12-22 17:52:47.161\u001b[0m | \u001b[34m\u001b[1mDEBUG   \u001b[0m | \u001b[36mrecommender.recommenders.combined_recommender\u001b[0m:\u001b[36mfind_most_simmilar\u001b[0m:\u001b[36m40\u001b[0m - \u001b[34m\u001b[1mUser Based Recommendation took 4.445657253265381\u001b[0m\n",
      "\u001b[32m2023-12-22 17:52:47.495\u001b[0m | \u001b[1mINFO    \u001b[0m | \u001b[36mrecommender.recommenders.content_based_recommender\u001b[0m:\u001b[36mget_scores\u001b[0m:\u001b[36m88\u001b[0m - \u001b[1mdirecor 0.33318305015563965\u001b[0m\n",
      "\u001b[32m2023-12-22 17:52:53.032\u001b[0m | \u001b[1mINFO    \u001b[0m | \u001b[36mrecommender.recommenders.content_based_recommender\u001b[0m:\u001b[36mget_scores\u001b[0m:\u001b[36m105\u001b[0m - \u001b[1mactors 5.536931037902832\u001b[0m\n",
      "\u001b[32m2023-12-22 17:52:53.325\u001b[0m | \u001b[1mINFO    \u001b[0m | \u001b[36mrecommender.recommenders.content_based_recommender\u001b[0m:\u001b[36mget_scores\u001b[0m:\u001b[36m114\u001b[0m - \u001b[1mplots 0.29186391830444336\u001b[0m\n",
      "\u001b[32m2023-12-22 17:52:53.326\u001b[0m | \u001b[1mINFO    \u001b[0m | \u001b[36mrecommender.recommenders.content_based_recommender\u001b[0m:\u001b[36mfind_most_simmilar\u001b[0m:\u001b[36m34\u001b[0m - \u001b[1mthe scores 6.163937091827393\u001b[0m\n",
      "\u001b[32m2023-12-22 17:52:53.327\u001b[0m | \u001b[34m\u001b[1mDEBUG   \u001b[0m | \u001b[36mrecommender.recommenders.combined_recommender\u001b[0m:\u001b[36mfind_most_simmilar\u001b[0m:\u001b[36m46\u001b[0m - \u001b[34m\u001b[1mContent Based Recommendation took 6.164927959442139\u001b[0m\n",
      "[I 2023-12-22 17:52:53,332] Trial 15 finished with value: -2907078.0 and parameters: {'user': 92.82047744781119, 'content': 9.326847117481883, 'closest_relevant_users': 11, 'directors': 1.9151407296121516, 'actors': 5.780969478870859, 'plots': 8.364438551367341}. Best is trial 5 with value: -2988592.0.\n"
     ]
    },
    {
     "name": "stdout",
     "output_type": "stream",
     "text": [
      "found  Fight Club\n",
      "14 125000 0 2\n",
      "found  Fargo\n",
      "10 85184 6 4\n",
      "found  Silence of the Lambs, The\n",
      "4 54872 12 7\n",
      "found  Schindler's List\n",
      "2 42875 15 8\n"
     ]
    },
    {
     "name": "stderr",
     "output_type": "stream",
     "text": [
      "\u001b[32m2023-12-22 17:52:55.406\u001b[0m | \u001b[34m\u001b[1mDEBUG   \u001b[0m | \u001b[36mrecommender.recommenders.combined_recommender\u001b[0m:\u001b[36mfind_most_simmilar\u001b[0m:\u001b[36m40\u001b[0m - \u001b[34m\u001b[1mUser Based Recommendation took 2.0637638568878174\u001b[0m\n",
      "\u001b[32m2023-12-22 17:52:55.740\u001b[0m | \u001b[1mINFO    \u001b[0m | \u001b[36mrecommender.recommenders.content_based_recommender\u001b[0m:\u001b[36mget_scores\u001b[0m:\u001b[36m88\u001b[0m - \u001b[1mdirecor 0.33290886878967285\u001b[0m\n",
      "\u001b[32m2023-12-22 17:53:01.446\u001b[0m | \u001b[1mINFO    \u001b[0m | \u001b[36mrecommender.recommenders.content_based_recommender\u001b[0m:\u001b[36mget_scores\u001b[0m:\u001b[36m105\u001b[0m - \u001b[1mactors 5.705672979354858\u001b[0m\n",
      "\u001b[32m2023-12-22 17:53:01.739\u001b[0m | \u001b[1mINFO    \u001b[0m | \u001b[36mrecommender.recommenders.content_based_recommender\u001b[0m:\u001b[36mget_scores\u001b[0m:\u001b[36m114\u001b[0m - \u001b[1mplots 0.29210805892944336\u001b[0m\n",
      "\u001b[32m2023-12-22 17:53:01.740\u001b[0m | \u001b[1mINFO    \u001b[0m | \u001b[36mrecommender.recommenders.content_based_recommender\u001b[0m:\u001b[36mfind_most_simmilar\u001b[0m:\u001b[36m34\u001b[0m - \u001b[1mthe scores 6.332826852798462\u001b[0m\n",
      "\u001b[32m2023-12-22 17:53:01.741\u001b[0m | \u001b[34m\u001b[1mDEBUG   \u001b[0m | \u001b[36mrecommender.recommenders.combined_recommender\u001b[0m:\u001b[36mfind_most_simmilar\u001b[0m:\u001b[36m46\u001b[0m - \u001b[34m\u001b[1mContent Based Recommendation took 6.333789110183716\u001b[0m\n",
      "[I 2023-12-22 17:53:01,748] Trial 16 finished with value: -2926490.0 and parameters: {'user': 83.6627176314922, 'content': 4.833764700467445, 'closest_relevant_users': 4, 'directors': 3.9227862037006744, 'actors': 3.345219290532644, 'plots': 6.39021701521943}. Best is trial 5 with value: -2988592.0.\n"
     ]
    },
    {
     "name": "stdout",
     "output_type": "stream",
     "text": [
      "found  Fight Club\n",
      "14 125000 0 2\n",
      "found  Fargo\n",
      "10 117649 1 4\n"
     ]
    },
    {
     "name": "stderr",
     "output_type": "stream",
     "text": [
      "\u001b[32m2023-12-22 17:53:06.014\u001b[0m | \u001b[34m\u001b[1mDEBUG   \u001b[0m | \u001b[36mrecommender.recommenders.combined_recommender\u001b[0m:\u001b[36mfind_most_simmilar\u001b[0m:\u001b[36m40\u001b[0m - \u001b[34m\u001b[1mUser Based Recommendation took 4.2551679611206055\u001b[0m\n",
      "\u001b[32m2023-12-22 17:53:06.348\u001b[0m | \u001b[1mINFO    \u001b[0m | \u001b[36mrecommender.recommenders.content_based_recommender\u001b[0m:\u001b[36mget_scores\u001b[0m:\u001b[36m88\u001b[0m - \u001b[1mdirecor 0.3339691162109375\u001b[0m\n",
      "\u001b[32m2023-12-22 17:53:11.897\u001b[0m | \u001b[1mINFO    \u001b[0m | \u001b[36mrecommender.recommenders.content_based_recommender\u001b[0m:\u001b[36mget_scores\u001b[0m:\u001b[36m105\u001b[0m - \u001b[1mactors 5.548204183578491\u001b[0m\n",
      "\u001b[32m2023-12-22 17:53:12.190\u001b[0m | \u001b[1mINFO    \u001b[0m | \u001b[36mrecommender.recommenders.content_based_recommender\u001b[0m:\u001b[36mget_scores\u001b[0m:\u001b[36m114\u001b[0m - \u001b[1mplots 0.2923288345336914\u001b[0m\n",
      "\u001b[32m2023-12-22 17:53:12.191\u001b[0m | \u001b[1mINFO    \u001b[0m | \u001b[36mrecommender.recommenders.content_based_recommender\u001b[0m:\u001b[36mfind_most_simmilar\u001b[0m:\u001b[36m34\u001b[0m - \u001b[1mthe scores 6.176499128341675\u001b[0m\n",
      "\u001b[32m2023-12-22 17:53:12.192\u001b[0m | \u001b[34m\u001b[1mDEBUG   \u001b[0m | \u001b[36mrecommender.recommenders.combined_recommender\u001b[0m:\u001b[36mfind_most_simmilar\u001b[0m:\u001b[36m46\u001b[0m - \u001b[34m\u001b[1mContent Based Recommendation took 6.177404165267944\u001b[0m\n",
      "[I 2023-12-22 17:53:12,198] Trial 17 finished with value: -2854750.0 and parameters: {'user': 119.66629621219482, 'content': 13.42668478506233, 'closest_relevant_users': 11, 'directors': 0.24413604613071627, 'actors': 7.242701374438226, 'plots': 3.1974366251937605}. Best is trial 5 with value: -2988592.0.\n"
     ]
    },
    {
     "name": "stdout",
     "output_type": "stream",
     "text": [
      "found  Fight Club\n",
      "14 125000 0 2\n",
      "found  Fargo\n",
      "10 85184 6 4\n",
      "found  Silence of the Lambs, The\n",
      "4 46656 14 7\n",
      "found  Schindler's List\n",
      "2 32768 18 8\n",
      "found  Batman Begins\n",
      "6 125 45 6\n"
     ]
    },
    {
     "name": "stderr",
     "output_type": "stream",
     "text": [
      "\u001b[32m2023-12-22 17:53:14.267\u001b[0m | \u001b[34m\u001b[1mDEBUG   \u001b[0m | \u001b[36mrecommender.recommenders.combined_recommender\u001b[0m:\u001b[36mfind_most_simmilar\u001b[0m:\u001b[36m40\u001b[0m - \u001b[34m\u001b[1mUser Based Recommendation took 2.0583198070526123\u001b[0m\n",
      "\u001b[32m2023-12-22 17:53:14.602\u001b[0m | \u001b[1mINFO    \u001b[0m | \u001b[36mrecommender.recommenders.content_based_recommender\u001b[0m:\u001b[36mget_scores\u001b[0m:\u001b[36m88\u001b[0m - \u001b[1mdirecor 0.33441686630249023\u001b[0m\n",
      "\u001b[32m2023-12-22 17:53:20.145\u001b[0m | \u001b[1mINFO    \u001b[0m | \u001b[36mrecommender.recommenders.content_based_recommender\u001b[0m:\u001b[36mget_scores\u001b[0m:\u001b[36m105\u001b[0m - \u001b[1mactors 5.5427329540252686\u001b[0m\n",
      "\u001b[32m2023-12-22 17:53:20.438\u001b[0m | \u001b[1mINFO    \u001b[0m | \u001b[36mrecommender.recommenders.content_based_recommender\u001b[0m:\u001b[36mget_scores\u001b[0m:\u001b[36m114\u001b[0m - \u001b[1mplots 0.2916548252105713\u001b[0m\n",
      "\u001b[32m2023-12-22 17:53:20.439\u001b[0m | \u001b[1mINFO    \u001b[0m | \u001b[36mrecommender.recommenders.content_based_recommender\u001b[0m:\u001b[36mfind_most_simmilar\u001b[0m:\u001b[36m34\u001b[0m - \u001b[1mthe scores 6.170973062515259\u001b[0m\n",
      "\u001b[32m2023-12-22 17:53:20.439\u001b[0m | \u001b[34m\u001b[1mDEBUG   \u001b[0m | \u001b[36mrecommender.recommenders.combined_recommender\u001b[0m:\u001b[36mfind_most_simmilar\u001b[0m:\u001b[36m46\u001b[0m - \u001b[34m\u001b[1mContent Based Recommendation took 6.171958923339844\u001b[0m\n",
      "[I 2023-12-22 17:53:20,446] Trial 18 finished with value: -3053948.0 and parameters: {'user': 58.14801134379678, 'content': 9.574968534239323, 'closest_relevant_users': 5, 'directors': 1.7700178422037256, 'actors': 0.41608988028456406, 'plots': 3.7411351569456124}. Best is trial 18 with value: -3053948.0.\n"
     ]
    },
    {
     "name": "stdout",
     "output_type": "stream",
     "text": [
      "found  Fight Club\n",
      "14 125000 0 2\n",
      "found  Fargo\n",
      "10 97336 4 4\n",
      "found  Silence of the Lambs, The\n",
      "4 59319 11 7\n",
      "found  Schindler's List\n",
      "2 46656 14 8\n"
     ]
    },
    {
     "name": "stderr",
     "output_type": "stream",
     "text": [
      "\u001b[32m2023-12-22 17:53:31.643\u001b[0m | \u001b[34m\u001b[1mDEBUG   \u001b[0m | \u001b[36mrecommender.recommenders.combined_recommender\u001b[0m:\u001b[36mfind_most_simmilar\u001b[0m:\u001b[36m40\u001b[0m - \u001b[34m\u001b[1mUser Based Recommendation took 11.186382055282593\u001b[0m\n",
      "\u001b[32m2023-12-22 17:53:31.979\u001b[0m | \u001b[1mINFO    \u001b[0m | \u001b[36mrecommender.recommenders.content_based_recommender\u001b[0m:\u001b[36mget_scores\u001b[0m:\u001b[36m88\u001b[0m - \u001b[1mdirecor 0.3347008228302002\u001b[0m\n",
      "\u001b[32m2023-12-22 17:53:37.522\u001b[0m | \u001b[1mINFO    \u001b[0m | \u001b[36mrecommender.recommenders.content_based_recommender\u001b[0m:\u001b[36mget_scores\u001b[0m:\u001b[36m105\u001b[0m - \u001b[1mactors 5.542435884475708\u001b[0m\n",
      "\u001b[32m2023-12-22 17:53:37.815\u001b[0m | \u001b[1mINFO    \u001b[0m | \u001b[36mrecommender.recommenders.content_based_recommender\u001b[0m:\u001b[36mget_scores\u001b[0m:\u001b[36m114\u001b[0m - \u001b[1mplots 0.2926771640777588\u001b[0m\n",
      "\u001b[32m2023-12-22 17:53:37.816\u001b[0m | \u001b[1mINFO    \u001b[0m | \u001b[36mrecommender.recommenders.content_based_recommender\u001b[0m:\u001b[36mfind_most_simmilar\u001b[0m:\u001b[36m34\u001b[0m - \u001b[1mthe scores 6.171746730804443\u001b[0m\n",
      "\u001b[32m2023-12-22 17:53:37.816\u001b[0m | \u001b[34m\u001b[1mDEBUG   \u001b[0m | \u001b[36mrecommender.recommenders.combined_recommender\u001b[0m:\u001b[36mfind_most_simmilar\u001b[0m:\u001b[36m46\u001b[0m - \u001b[34m\u001b[1mContent Based Recommendation took 6.172588109970093\u001b[0m\n",
      "[I 2023-12-22 17:53:37,822] Trial 19 finished with value: -3260978.0 and parameters: {'user': 40.00888158082749, 'content': 16.41987471661005, 'closest_relevant_users': 5, 'directors': 8.576378689767154, 'actors': 0.4332597249875946, 'plots': 3.2474736120281995}. Best is trial 19 with value: -3260978.0.\n"
     ]
    },
    {
     "name": "stdout",
     "output_type": "stream",
     "text": [
      "found  Fight Club\n",
      "14 125000 0 2\n",
      "found  Fargo\n",
      "10 85184 6 4\n",
      "found  Schindler's List\n",
      "2 68921 9 8\n",
      "found  Silence of the Lambs, The\n",
      "4 32768 18 7\n",
      "found  Inception\n",
      "16 24389 21 1\n"
     ]
    },
    {
     "name": "stderr",
     "output_type": "stream",
     "text": [
      "\u001b[32m2023-12-22 18:10:18.496\u001b[0m | \u001b[34m\u001b[1mDEBUG   \u001b[0m | \u001b[36mrecommender.recommenders.combined_recommender\u001b[0m:\u001b[36mfind_most_simmilar\u001b[0m:\u001b[36m40\u001b[0m - \u001b[34m\u001b[1mUser Based Recommendation took 1000.6632380485535\u001b[0m\n",
      "\u001b[32m2023-12-22 18:10:18.834\u001b[0m | \u001b[1mINFO    \u001b[0m | \u001b[36mrecommender.recommenders.content_based_recommender\u001b[0m:\u001b[36mget_scores\u001b[0m:\u001b[36m88\u001b[0m - \u001b[1mdirecor 0.33771514892578125\u001b[0m\n",
      "\u001b[32m2023-12-22 18:13:11.611\u001b[0m | \u001b[1mINFO    \u001b[0m | \u001b[36mrecommender.recommenders.content_based_recommender\u001b[0m:\u001b[36mget_scores\u001b[0m:\u001b[36m105\u001b[0m - \u001b[1mactors 172.77588605880737\u001b[0m\n",
      "\u001b[32m2023-12-22 18:13:11.918\u001b[0m | \u001b[1mINFO    \u001b[0m | \u001b[36mrecommender.recommenders.content_based_recommender\u001b[0m:\u001b[36mget_scores\u001b[0m:\u001b[36m114\u001b[0m - \u001b[1mplots 0.30632877349853516\u001b[0m\n",
      "\u001b[32m2023-12-22 18:13:11.919\u001b[0m | \u001b[1mINFO    \u001b[0m | \u001b[36mrecommender.recommenders.content_based_recommender\u001b[0m:\u001b[36mfind_most_simmilar\u001b[0m:\u001b[36m34\u001b[0m - \u001b[1mthe scores 173.42259097099304\u001b[0m\n",
      "\u001b[32m2023-12-22 18:13:11.920\u001b[0m | \u001b[34m\u001b[1mDEBUG   \u001b[0m | \u001b[36mrecommender.recommenders.combined_recommender\u001b[0m:\u001b[36mfind_most_simmilar\u001b[0m:\u001b[36m46\u001b[0m - \u001b[34m\u001b[1mContent Based Recommendation took 173.4238042831421\u001b[0m\n",
      "[I 2023-12-22 18:13:11,926] Trial 20 finished with value: -3316732.0 and parameters: {'user': 41.323005752414254, 'content': 10.726790637953625, 'closest_relevant_users': 4, 'directors': 9.758640518246366, 'actors': 0.21328086252360484, 'plots': 3.184559005723119}. Best is trial 20 with value: -3316732.0.\n"
     ]
    },
    {
     "name": "stdout",
     "output_type": "stream",
     "text": [
      "found  Fight Club\n",
      "14 125000 0 2\n",
      "found  Fargo\n",
      "10 117649 1 4\n",
      "found  Inception\n",
      "16 24389 21 1\n",
      "found  Blade Runner\n",
      "18 1 49 0\n"
     ]
    },
    {
     "name": "stderr",
     "output_type": "stream",
     "text": [
      "\u001b[32m2023-12-22 18:13:14.220\u001b[0m | \u001b[34m\u001b[1mDEBUG   \u001b[0m | \u001b[36mrecommender.recommenders.combined_recommender\u001b[0m:\u001b[36mfind_most_simmilar\u001b[0m:\u001b[36m40\u001b[0m - \u001b[34m\u001b[1mUser Based Recommendation took 2.2816162109375\u001b[0m\n",
      "\u001b[32m2023-12-22 18:13:14.779\u001b[0m | \u001b[1mINFO    \u001b[0m | \u001b[36mrecommender.recommenders.content_based_recommender\u001b[0m:\u001b[36mget_scores\u001b[0m:\u001b[36m88\u001b[0m - \u001b[1mdirecor 0.5583391189575195\u001b[0m\n",
      "\u001b[32m2023-12-22 18:13:20.421\u001b[0m | \u001b[1mINFO    \u001b[0m | \u001b[36mrecommender.recommenders.content_based_recommender\u001b[0m:\u001b[36mget_scores\u001b[0m:\u001b[36m105\u001b[0m - \u001b[1mactors 5.641611099243164\u001b[0m\n",
      "\u001b[32m2023-12-22 18:13:20.743\u001b[0m | \u001b[1mINFO    \u001b[0m | \u001b[36mrecommender.recommenders.content_based_recommender\u001b[0m:\u001b[36mget_scores\u001b[0m:\u001b[36m114\u001b[0m - \u001b[1mplots 0.32100701332092285\u001b[0m\n",
      "\u001b[32m2023-12-22 18:13:20.743\u001b[0m | \u001b[1mINFO    \u001b[0m | \u001b[36mrecommender.recommenders.content_based_recommender\u001b[0m:\u001b[36mfind_most_simmilar\u001b[0m:\u001b[36m34\u001b[0m - \u001b[1mthe scores 6.522770881652832\u001b[0m\n",
      "\u001b[32m2023-12-22 18:13:20.744\u001b[0m | \u001b[34m\u001b[1mDEBUG   \u001b[0m | \u001b[36mrecommender.recommenders.combined_recommender\u001b[0m:\u001b[36mfind_most_simmilar\u001b[0m:\u001b[36m46\u001b[0m - \u001b[34m\u001b[1mContent Based Recommendation took 6.523726224899292\u001b[0m\n",
      "[I 2023-12-22 18:13:20,753] Trial 21 finished with value: -2928508.0 and parameters: {'user': 41.86683776728333, 'content': 10.326293233778694, 'closest_relevant_users': 4, 'directors': 9.628041041204344, 'actors': 0.26480034593221774, 'plots': 2.972471667283622}. Best is trial 20 with value: -3316732.0.\n"
     ]
    },
    {
     "name": "stdout",
     "output_type": "stream",
     "text": [
      "found  Fight Club\n",
      "14 125000 0 2\n",
      "found  Fargo\n",
      "10 117649 1 4\n",
      "found  Inception\n",
      "16 125 45 1\n",
      "found  Blade Runner\n",
      "18 1 49 0\n"
     ]
    },
    {
     "name": "stderr",
     "output_type": "stream",
     "text": [
      "\u001b[32m2023-12-22 18:13:24.770\u001b[0m | \u001b[34m\u001b[1mDEBUG   \u001b[0m | \u001b[36mrecommender.recommenders.combined_recommender\u001b[0m:\u001b[36mfind_most_simmilar\u001b[0m:\u001b[36m40\u001b[0m - \u001b[34m\u001b[1mUser Based Recommendation took 4.005859136581421\u001b[0m\n",
      "\u001b[32m2023-12-22 18:13:25.121\u001b[0m | \u001b[1mINFO    \u001b[0m | \u001b[36mrecommender.recommenders.content_based_recommender\u001b[0m:\u001b[36mget_scores\u001b[0m:\u001b[36m88\u001b[0m - \u001b[1mdirecor 0.3500189781188965\u001b[0m\n",
      "\u001b[32m2023-12-22 18:13:30.731\u001b[0m | \u001b[1mINFO    \u001b[0m | \u001b[36mrecommender.recommenders.content_based_recommender\u001b[0m:\u001b[36mget_scores\u001b[0m:\u001b[36m105\u001b[0m - \u001b[1mactors 5.608959913253784\u001b[0m\n",
      "\u001b[32m2023-12-22 18:13:31.025\u001b[0m | \u001b[1mINFO    \u001b[0m | \u001b[36mrecommender.recommenders.content_based_recommender\u001b[0m:\u001b[36mget_scores\u001b[0m:\u001b[36m114\u001b[0m - \u001b[1mplots 0.29358601570129395\u001b[0m\n",
      "\u001b[32m2023-12-22 18:13:31.026\u001b[0m | \u001b[1mINFO    \u001b[0m | \u001b[36mrecommender.recommenders.content_based_recommender\u001b[0m:\u001b[36mfind_most_simmilar\u001b[0m:\u001b[36m34\u001b[0m - \u001b[1mthe scores 6.254690885543823\u001b[0m\n",
      "\u001b[32m2023-12-22 18:13:31.026\u001b[0m | \u001b[34m\u001b[1mDEBUG   \u001b[0m | \u001b[36mrecommender.recommenders.combined_recommender\u001b[0m:\u001b[36mfind_most_simmilar\u001b[0m:\u001b[36m46\u001b[0m - \u001b[34m\u001b[1mContent Based Recommendation took 6.255631685256958\u001b[0m\n",
      "[I 2023-12-22 18:13:31,032] Trial 22 finished with value: -2920322.0 and parameters: {'user': 43.428504242312115, 'content': 12.276307230574325, 'closest_relevant_users': 5, 'directors': 8.619691202801217, 'actors': 1.595097420742167, 'plots': 1.7692040267508824}. Best is trial 20 with value: -3316732.0.\n"
     ]
    },
    {
     "name": "stdout",
     "output_type": "stream",
     "text": [
      "found  Fight Club\n",
      "14 125000 0 2\n",
      "found  Fargo\n",
      "10 91125 5 4\n",
      "found  Schindler's List\n",
      "2 64000 10 8\n",
      "found  Silence of the Lambs, The\n",
      "4 32768 18 7\n"
     ]
    },
    {
     "name": "stderr",
     "output_type": "stream",
     "text": [
      "\u001b[32m2023-12-22 18:13:42.292\u001b[0m | \u001b[34m\u001b[1mDEBUG   \u001b[0m | \u001b[36mrecommender.recommenders.combined_recommender\u001b[0m:\u001b[36mfind_most_simmilar\u001b[0m:\u001b[36m40\u001b[0m - \u001b[34m\u001b[1mUser Based Recommendation took 11.248473882675171\u001b[0m\n",
      "\u001b[32m2023-12-22 18:13:42.922\u001b[0m | \u001b[1mINFO    \u001b[0m | \u001b[36mrecommender.recommenders.content_based_recommender\u001b[0m:\u001b[36mget_scores\u001b[0m:\u001b[36m88\u001b[0m - \u001b[1mdirecor 0.6292688846588135\u001b[0m\n",
      "\u001b[32m2023-12-22 18:13:48.576\u001b[0m | \u001b[1mINFO    \u001b[0m | \u001b[36mrecommender.recommenders.content_based_recommender\u001b[0m:\u001b[36mget_scores\u001b[0m:\u001b[36m105\u001b[0m - \u001b[1mactors 5.653620004653931\u001b[0m\n",
      "\u001b[32m2023-12-22 18:13:48.873\u001b[0m | \u001b[1mINFO    \u001b[0m | \u001b[36mrecommender.recommenders.content_based_recommender\u001b[0m:\u001b[36mget_scores\u001b[0m:\u001b[36m114\u001b[0m - \u001b[1mplots 0.2957649230957031\u001b[0m\n",
      "\u001b[32m2023-12-22 18:13:48.873\u001b[0m | \u001b[1mINFO    \u001b[0m | \u001b[36mrecommender.recommenders.content_based_recommender\u001b[0m:\u001b[36mfind_most_simmilar\u001b[0m:\u001b[36m34\u001b[0m - \u001b[1mthe scores 6.5806169509887695\u001b[0m\n",
      "\u001b[32m2023-12-22 18:13:48.874\u001b[0m | \u001b[34m\u001b[1mDEBUG   \u001b[0m | \u001b[36mrecommender.recommenders.combined_recommender\u001b[0m:\u001b[36mfind_most_simmilar\u001b[0m:\u001b[36m46\u001b[0m - \u001b[34m\u001b[1mContent Based Recommendation took 6.581544876098633\u001b[0m\n",
      "[I 2023-12-22 18:13:48,884] Trial 23 finished with value: -2928490.0 and parameters: {'user': 59.7176443316718, 'content': 9.983459580771799, 'closest_relevant_users': 4, 'directors': 8.41864767904444, 'actors': 0.9271841983412001, 'plots': 3.8630874930771952}. Best is trial 20 with value: -3316732.0.\n"
     ]
    },
    {
     "name": "stdout",
     "output_type": "stream",
     "text": [
      "found  Fight Club\n",
      "14 125000 0 2\n",
      "found  Fargo\n",
      "10 117649 1 4\n",
      "found  Inception\n",
      "16 125 45 1\n"
     ]
    },
    {
     "name": "stderr",
     "output_type": "stream",
     "text": [
      "\u001b[32m2023-12-22 18:13:53.032\u001b[0m | \u001b[34m\u001b[1mDEBUG   \u001b[0m | \u001b[36mrecommender.recommenders.combined_recommender\u001b[0m:\u001b[36mfind_most_simmilar\u001b[0m:\u001b[36m40\u001b[0m - \u001b[34m\u001b[1mUser Based Recommendation took 4.136512041091919\u001b[0m\n",
      "\u001b[32m2023-12-22 18:13:53.376\u001b[0m | \u001b[1mINFO    \u001b[0m | \u001b[36mrecommender.recommenders.content_based_recommender\u001b[0m:\u001b[36mget_scores\u001b[0m:\u001b[36m88\u001b[0m - \u001b[1mdirecor 0.34296393394470215\u001b[0m\n",
      "\u001b[32m2023-12-22 18:13:58.942\u001b[0m | \u001b[1mINFO    \u001b[0m | \u001b[36mrecommender.recommenders.content_based_recommender\u001b[0m:\u001b[36mget_scores\u001b[0m:\u001b[36m105\u001b[0m - \u001b[1mactors 5.565253973007202\u001b[0m\n",
      "\u001b[32m2023-12-22 18:13:59.236\u001b[0m | \u001b[1mINFO    \u001b[0m | \u001b[36mrecommender.recommenders.content_based_recommender\u001b[0m:\u001b[36mget_scores\u001b[0m:\u001b[36m114\u001b[0m - \u001b[1mplots 0.29366493225097656\u001b[0m\n",
      "\u001b[32m2023-12-22 18:13:59.237\u001b[0m | \u001b[1mINFO    \u001b[0m | \u001b[36mrecommender.recommenders.content_based_recommender\u001b[0m:\u001b[36mfind_most_simmilar\u001b[0m:\u001b[36m34\u001b[0m - \u001b[1mthe scores 6.204026937484741\u001b[0m\n",
      "\u001b[32m2023-12-22 18:13:59.238\u001b[0m | \u001b[34m\u001b[1mDEBUG   \u001b[0m | \u001b[36mrecommender.recommenders.combined_recommender\u001b[0m:\u001b[36mfind_most_simmilar\u001b[0m:\u001b[36m46\u001b[0m - \u001b[34m\u001b[1mContent Based Recommendation took 6.2049970626831055\u001b[0m\n",
      "[I 2023-12-22 18:13:59,243] Trial 24 finished with value: -2817444.0 and parameters: {'user': 38.52445350255449, 'content': 8.800987562684481, 'closest_relevant_users': 6, 'directors': 8.849237304329177, 'actors': 0.9044496830978144, 'plots': 1.6119952503732287}. Best is trial 20 with value: -3316732.0.\n"
     ]
    },
    {
     "name": "stdout",
     "output_type": "stream",
     "text": [
      "found  Fight Club\n",
      "14 125000 0 2\n",
      "found  Fargo\n",
      "10 79507 7 4\n",
      "found  Silence of the Lambs, The\n",
      "4 46656 14 7\n",
      "found  Schindler's List\n",
      "2 42875 15 8\n"
     ]
    },
    {
     "name": "stderr",
     "output_type": "stream",
     "text": [
      "\u001b[32m2023-12-22 18:14:09.500\u001b[0m | \u001b[34m\u001b[1mDEBUG   \u001b[0m | \u001b[36mrecommender.recommenders.combined_recommender\u001b[0m:\u001b[36mfind_most_simmilar\u001b[0m:\u001b[36m40\u001b[0m - \u001b[34m\u001b[1mUser Based Recommendation took 10.245301961898804\u001b[0m\n",
      "\u001b[32m2023-12-22 18:14:09.835\u001b[0m | \u001b[1mINFO    \u001b[0m | \u001b[36mrecommender.recommenders.content_based_recommender\u001b[0m:\u001b[36mget_scores\u001b[0m:\u001b[36m88\u001b[0m - \u001b[1mdirecor 0.3338191509246826\u001b[0m\n",
      "\u001b[32m2023-12-22 18:14:15.572\u001b[0m | \u001b[1mINFO    \u001b[0m | \u001b[36mrecommender.recommenders.content_based_recommender\u001b[0m:\u001b[36mget_scores\u001b[0m:\u001b[36m105\u001b[0m - \u001b[1mactors 5.736027002334595\u001b[0m\n",
      "\u001b[32m2023-12-22 18:14:15.867\u001b[0m | \u001b[1mINFO    \u001b[0m | \u001b[36mrecommender.recommenders.content_based_recommender\u001b[0m:\u001b[36mget_scores\u001b[0m:\u001b[36m114\u001b[0m - \u001b[1mplots 0.2951791286468506\u001b[0m\n",
      "\u001b[32m2023-12-22 18:14:15.868\u001b[0m | \u001b[1mINFO    \u001b[0m | \u001b[36mrecommender.recommenders.content_based_recommender\u001b[0m:\u001b[36mfind_most_simmilar\u001b[0m:\u001b[36m34\u001b[0m - \u001b[1mthe scores 6.367002010345459\u001b[0m\n",
      "\u001b[32m2023-12-22 18:14:15.869\u001b[0m | \u001b[34m\u001b[1mDEBUG   \u001b[0m | \u001b[36mrecommender.recommenders.combined_recommender\u001b[0m:\u001b[36mfind_most_simmilar\u001b[0m:\u001b[36m46\u001b[0m - \u001b[34m\u001b[1mContent Based Recommendation took 6.367934226989746\u001b[0m\n",
      "[I 2023-12-22 18:14:15,876] Trial 25 finished with value: -2063318.0 and parameters: {'user': 11.980410359887404, 'content': 16.79638630472153, 'closest_relevant_users': 7, 'directors': 7.494372156076826, 'actors': 2.1379403539162363, 'plots': 3.8870759067789353}. Best is trial 20 with value: -3316732.0.\n"
     ]
    },
    {
     "name": "stdout",
     "output_type": "stream",
     "text": [
      "found  Batman Begins\n",
      "6 97336 4 6\n",
      "found  Schindler's List\n",
      "2 50653 13 8\n",
      "found  Inception\n",
      "16 42875 15 1\n",
      "found  Blade Runner\n",
      "18 21952 22 0\n",
      "found  Fight Club\n",
      "14 13824 26 2\n",
      "found  Fargo\n",
      "10 8000 30 4\n",
      "found  Interstellar\n",
      "8 2744 36 5\n",
      "found  Silence of the Lambs, The\n",
      "4 343 43 7\n"
     ]
    },
    {
     "name": "stderr",
     "output_type": "stream",
     "text": [
      "\u001b[32m2023-12-22 18:14:18.006\u001b[0m | \u001b[34m\u001b[1mDEBUG   \u001b[0m | \u001b[36mrecommender.recommenders.combined_recommender\u001b[0m:\u001b[36mfind_most_simmilar\u001b[0m:\u001b[36m40\u001b[0m - \u001b[34m\u001b[1mUser Based Recommendation took 2.117682933807373\u001b[0m\n",
      "\u001b[32m2023-12-22 18:14:18.341\u001b[0m | \u001b[1mINFO    \u001b[0m | \u001b[36mrecommender.recommenders.content_based_recommender\u001b[0m:\u001b[36mget_scores\u001b[0m:\u001b[36m88\u001b[0m - \u001b[1mdirecor 0.3341331481933594\u001b[0m\n",
      "\u001b[32m2023-12-22 18:14:24.166\u001b[0m | \u001b[1mINFO    \u001b[0m | \u001b[36mrecommender.recommenders.content_based_recommender\u001b[0m:\u001b[36mget_scores\u001b[0m:\u001b[36m105\u001b[0m - \u001b[1mactors 5.8247809410095215\u001b[0m\n",
      "\u001b[32m2023-12-22 18:14:24.460\u001b[0m | \u001b[1mINFO    \u001b[0m | \u001b[36mrecommender.recommenders.content_based_recommender\u001b[0m:\u001b[36mget_scores\u001b[0m:\u001b[36m114\u001b[0m - \u001b[1mplots 0.29328274726867676\u001b[0m\n",
      "\u001b[32m2023-12-22 18:14:24.460\u001b[0m | \u001b[1mINFO    \u001b[0m | \u001b[36mrecommender.recommenders.content_based_recommender\u001b[0m:\u001b[36mfind_most_simmilar\u001b[0m:\u001b[36m34\u001b[0m - \u001b[1mthe scores 6.4541192054748535\u001b[0m\n",
      "\u001b[32m2023-12-22 18:14:24.461\u001b[0m | \u001b[34m\u001b[1mDEBUG   \u001b[0m | \u001b[36mrecommender.recommenders.combined_recommender\u001b[0m:\u001b[36mfind_most_simmilar\u001b[0m:\u001b[36m46\u001b[0m - \u001b[34m\u001b[1mContent Based Recommendation took 6.45510721206665\u001b[0m\n",
      "[I 2023-12-22 18:14:24,470] Trial 26 finished with value: -2660130.0 and parameters: {'user': 61.73424348623696, 'content': 18.207594579135378, 'closest_relevant_users': 3, 'directors': 7.737528773202369, 'actors': 2.7534649330230945, 'plots': 0.32571860471855274}. Best is trial 20 with value: -3316732.0.\n"
     ]
    },
    {
     "name": "stdout",
     "output_type": "stream",
     "text": [
      "found  Fargo\n",
      "10 103823 3 4\n",
      "found  Fight Club\n",
      "14 97336 4 2\n",
      "found  Batman Begins\n",
      "6 32768 18 6\n",
      "found  Schindler's List\n",
      "2 17576 24 8\n",
      "found  Silence of the Lambs, The\n",
      "4 6859 31 7\n"
     ]
    },
    {
     "name": "stderr",
     "output_type": "stream",
     "text": [
      "\u001b[32m2023-12-22 18:14:34.930\u001b[0m | \u001b[34m\u001b[1mDEBUG   \u001b[0m | \u001b[36mrecommender.recommenders.combined_recommender\u001b[0m:\u001b[36mfind_most_simmilar\u001b[0m:\u001b[36m40\u001b[0m - \u001b[34m\u001b[1mUser Based Recommendation took 10.44566011428833\u001b[0m\n",
      "\u001b[32m2023-12-22 18:14:35.281\u001b[0m | \u001b[1mINFO    \u001b[0m | \u001b[36mrecommender.recommenders.content_based_recommender\u001b[0m:\u001b[36mget_scores\u001b[0m:\u001b[36m88\u001b[0m - \u001b[1mdirecor 0.3503732681274414\u001b[0m\n",
      "\u001b[32m2023-12-22 18:14:41.018\u001b[0m | \u001b[1mINFO    \u001b[0m | \u001b[36mrecommender.recommenders.content_based_recommender\u001b[0m:\u001b[36mget_scores\u001b[0m:\u001b[36m105\u001b[0m - \u001b[1mactors 5.735749959945679\u001b[0m\n",
      "\u001b[32m2023-12-22 18:14:41.313\u001b[0m | \u001b[1mINFO    \u001b[0m | \u001b[36mrecommender.recommenders.content_based_recommender\u001b[0m:\u001b[36mget_scores\u001b[0m:\u001b[36m114\u001b[0m - \u001b[1mplots 0.2943131923675537\u001b[0m\n",
      "\u001b[32m2023-12-22 18:14:41.314\u001b[0m | \u001b[1mINFO    \u001b[0m | \u001b[36mrecommender.recommenders.content_based_recommender\u001b[0m:\u001b[36mfind_most_simmilar\u001b[0m:\u001b[36m34\u001b[0m - \u001b[1mthe scores 6.382529020309448\u001b[0m\n",
      "\u001b[32m2023-12-22 18:14:41.315\u001b[0m | \u001b[34m\u001b[1mDEBUG   \u001b[0m | \u001b[36mrecommender.recommenders.combined_recommender\u001b[0m:\u001b[36mfind_most_simmilar\u001b[0m:\u001b[36m46\u001b[0m - \u001b[34m\u001b[1mContent Based Recommendation took 6.383697986602783\u001b[0m\n",
      "[I 2023-12-22 18:14:41,322] Trial 27 finished with value: -3501500.0 and parameters: {'user': 33.48366490985213, 'content': 10.938151694701494, 'closest_relevant_users': 4, 'directors': 9.331775504458033, 'actors': 0.7792702038299191, 'plots': 1.8930890013886827}. Best is trial 27 with value: -3501500.0.\n"
     ]
    },
    {
     "name": "stdout",
     "output_type": "stream",
     "text": [
      "found  Fight Club\n",
      "14 125000 0 2\n",
      "found  Fargo\n",
      "10 117649 1 4\n",
      "found  Inception\n",
      "16 35937 17 1\n",
      "found  Blade Runner\n",
      "18 1 49 0\n"
     ]
    },
    {
     "name": "stderr",
     "output_type": "stream",
     "text": [
      "\u001b[32m2023-12-22 18:14:44.974\u001b[0m | \u001b[34m\u001b[1mDEBUG   \u001b[0m | \u001b[36mrecommender.recommenders.combined_recommender\u001b[0m:\u001b[36mfind_most_simmilar\u001b[0m:\u001b[36m40\u001b[0m - \u001b[34m\u001b[1mUser Based Recommendation took 3.6398987770080566\u001b[0m\n",
      "\u001b[32m2023-12-22 18:14:45.309\u001b[0m | \u001b[1mINFO    \u001b[0m | \u001b[36mrecommender.recommenders.content_based_recommender\u001b[0m:\u001b[36mget_scores\u001b[0m:\u001b[36m88\u001b[0m - \u001b[1mdirecor 0.33457112312316895\u001b[0m\n",
      "\u001b[32m2023-12-22 18:14:51.101\u001b[0m | \u001b[1mINFO    \u001b[0m | \u001b[36mrecommender.recommenders.content_based_recommender\u001b[0m:\u001b[36mget_scores\u001b[0m:\u001b[36m105\u001b[0m - \u001b[1mactors 5.791269063949585\u001b[0m\n",
      "\u001b[32m2023-12-22 18:14:51.396\u001b[0m | \u001b[1mINFO    \u001b[0m | \u001b[36mrecommender.recommenders.content_based_recommender\u001b[0m:\u001b[36mget_scores\u001b[0m:\u001b[36m114\u001b[0m - \u001b[1mplots 0.2943150997161865\u001b[0m\n",
      "\u001b[32m2023-12-22 18:14:51.396\u001b[0m | \u001b[1mINFO    \u001b[0m | \u001b[36mrecommender.recommenders.content_based_recommender\u001b[0m:\u001b[36mfind_most_simmilar\u001b[0m:\u001b[36m34\u001b[0m - \u001b[1mthe scores 6.422014236450195\u001b[0m\n",
      "\u001b[32m2023-12-22 18:14:51.397\u001b[0m | \u001b[34m\u001b[1mDEBUG   \u001b[0m | \u001b[36mrecommender.recommenders.combined_recommender\u001b[0m:\u001b[36mfind_most_simmilar\u001b[0m:\u001b[36m46\u001b[0m - \u001b[34m\u001b[1mContent Based Recommendation took 6.423028945922852\u001b[0m\n",
      "[I 2023-12-22 18:14:51,406] Trial 28 finished with value: -3737252.0 and parameters: {'user': 32.5805645084972, 'content': 13.290465332673634, 'closest_relevant_users': 4, 'directors': 9.299334999623142, 'actors': 1.068943398438262, 'plots': 2.0679404419533545}. Best is trial 28 with value: -3737252.0.\n"
     ]
    },
    {
     "name": "stdout",
     "output_type": "stream",
     "text": [
      "found  Fight Club\n",
      "14 117649 1 2\n",
      "found  Fargo\n",
      "10 110592 2 4\n",
      "found  Inception\n",
      "16 46656 14 1\n",
      "found  Batman Begins\n",
      "6 15625 25 6\n",
      "found  Blade Runner\n",
      "18 8000 30 0\n"
     ]
    },
    {
     "name": "stderr",
     "output_type": "stream",
     "text": [
      "\u001b[32m2023-12-22 18:14:55.480\u001b[0m | \u001b[34m\u001b[1mDEBUG   \u001b[0m | \u001b[36mrecommender.recommenders.combined_recommender\u001b[0m:\u001b[36mfind_most_simmilar\u001b[0m:\u001b[36m40\u001b[0m - \u001b[34m\u001b[1mUser Based Recommendation took 4.060784816741943\u001b[0m\n",
      "\u001b[32m2023-12-22 18:14:55.817\u001b[0m | \u001b[1mINFO    \u001b[0m | \u001b[36mrecommender.recommenders.content_based_recommender\u001b[0m:\u001b[36mget_scores\u001b[0m:\u001b[36m88\u001b[0m - \u001b[1mdirecor 0.3359370231628418\u001b[0m\n",
      "\u001b[32m2023-12-22 18:15:01.412\u001b[0m | \u001b[1mINFO    \u001b[0m | \u001b[36mrecommender.recommenders.content_based_recommender\u001b[0m:\u001b[36mget_scores\u001b[0m:\u001b[36m105\u001b[0m - \u001b[1mactors 5.59482216835022\u001b[0m\n",
      "\u001b[32m2023-12-22 18:15:01.714\u001b[0m | \u001b[1mINFO    \u001b[0m | \u001b[36mrecommender.recommenders.content_based_recommender\u001b[0m:\u001b[36mget_scores\u001b[0m:\u001b[36m114\u001b[0m - \u001b[1mplots 0.3005361557006836\u001b[0m\n",
      "\u001b[32m2023-12-22 18:15:01.715\u001b[0m | \u001b[1mINFO    \u001b[0m | \u001b[36mrecommender.recommenders.content_based_recommender\u001b[0m:\u001b[36mfind_most_simmilar\u001b[0m:\u001b[36m34\u001b[0m - \u001b[1mthe scores 6.233724117279053\u001b[0m\n",
      "\u001b[32m2023-12-22 18:15:01.716\u001b[0m | \u001b[34m\u001b[1mDEBUG   \u001b[0m | \u001b[36mrecommender.recommenders.combined_recommender\u001b[0m:\u001b[36mfind_most_simmilar\u001b[0m:\u001b[36m46\u001b[0m - \u001b[34m\u001b[1mContent Based Recommendation took 6.234884738922119\u001b[0m\n",
      "[I 2023-12-22 18:15:01,723] Trial 29 finished with value: -3108002.0 and parameters: {'user': 25.514783629162864, 'content': 13.661734571519384, 'closest_relevant_users': 4, 'directors': 9.30846848553457, 'actors': 3.9984877956855107, 'plots': 1.74037517895161}. Best is trial 28 with value: -3737252.0.\n"
     ]
    },
    {
     "name": "stdout",
     "output_type": "stream",
     "text": [
      "found  Batman Begins\n",
      "6 91125 5 6\n",
      "found  Fargo\n",
      "10 74088 8 4\n",
      "found  Fight Club\n",
      "14 50653 13 2\n",
      "found  Inception\n",
      "16 35937 17 1\n",
      "found  Blade Runner\n",
      "18 29791 19 0\n"
     ]
    },
    {
     "name": "stderr",
     "output_type": "stream",
     "text": [
      "\u001b[32m2023-12-22 18:15:03.849\u001b[0m | \u001b[34m\u001b[1mDEBUG   \u001b[0m | \u001b[36mrecommender.recommenders.combined_recommender\u001b[0m:\u001b[36mfind_most_simmilar\u001b[0m:\u001b[36m40\u001b[0m - \u001b[34m\u001b[1mUser Based Recommendation took 2.1115520000457764\u001b[0m\n",
      "\u001b[32m2023-12-22 18:15:04.185\u001b[0m | \u001b[1mINFO    \u001b[0m | \u001b[36mrecommender.recommenders.content_based_recommender\u001b[0m:\u001b[36mget_scores\u001b[0m:\u001b[36m88\u001b[0m - \u001b[1mdirecor 0.33521485328674316\u001b[0m\n",
      "\u001b[32m2023-12-22 18:15:10.072\u001b[0m | \u001b[1mINFO    \u001b[0m | \u001b[36mrecommender.recommenders.content_based_recommender\u001b[0m:\u001b[36mget_scores\u001b[0m:\u001b[36m105\u001b[0m - \u001b[1mactors 5.885632038116455\u001b[0m\n",
      "\u001b[32m2023-12-22 18:15:10.367\u001b[0m | \u001b[1mINFO    \u001b[0m | \u001b[36mrecommender.recommenders.content_based_recommender\u001b[0m:\u001b[36mget_scores\u001b[0m:\u001b[36m114\u001b[0m - \u001b[1mplots 0.2951161861419678\u001b[0m\n",
      "\u001b[32m2023-12-22 18:15:10.368\u001b[0m | \u001b[1mINFO    \u001b[0m | \u001b[36mrecommender.recommenders.content_based_recommender\u001b[0m:\u001b[36mfind_most_simmilar\u001b[0m:\u001b[36m34\u001b[0m - \u001b[1mthe scores 6.517923831939697\u001b[0m\n",
      "\u001b[32m2023-12-22 18:15:10.369\u001b[0m | \u001b[34m\u001b[1mDEBUG   \u001b[0m | \u001b[36mrecommender.recommenders.combined_recommender\u001b[0m:\u001b[36mfind_most_simmilar\u001b[0m:\u001b[36m46\u001b[0m - \u001b[34m\u001b[1mContent Based Recommendation took 6.51896595954895\u001b[0m\n",
      "[I 2023-12-22 18:15:10,381] Trial 30 finished with value: -3247064.0 and parameters: {'user': 15.811173905101413, 'content': 11.27947590766966, 'closest_relevant_users': 3, 'directors': 6.609194228123298, 'actors': 0.9740193548167407, 'plots': 1.2313526582770944}. Best is trial 28 with value: -3737252.0.\n"
     ]
    },
    {
     "name": "stdout",
     "output_type": "stream",
     "text": [
      "found  Fight Club\n",
      "14 91125 5 2\n",
      "found  Fargo\n",
      "10 85184 6 4\n",
      "found  Batman Begins\n",
      "6 79507 7 6\n",
      "found  Inception\n",
      "16 32768 18 1\n",
      "found  Schindler's List\n",
      "2 27000 20 8\n",
      "found  Interstellar\n",
      "8 8000 30 5\n",
      "found  Blade Runner\n",
      "18 8 48 0\n"
     ]
    },
    {
     "name": "stderr",
     "output_type": "stream",
     "text": [
      "\u001b[32m2023-12-22 18:15:21.529\u001b[0m | \u001b[34m\u001b[1mDEBUG   \u001b[0m | \u001b[36mrecommender.recommenders.combined_recommender\u001b[0m:\u001b[36mfind_most_simmilar\u001b[0m:\u001b[36m40\u001b[0m - \u001b[34m\u001b[1mUser Based Recommendation took 11.135414123535156\u001b[0m\n",
      "\u001b[32m2023-12-22 18:15:21.861\u001b[0m | \u001b[1mINFO    \u001b[0m | \u001b[36mrecommender.recommenders.content_based_recommender\u001b[0m:\u001b[36mget_scores\u001b[0m:\u001b[36m88\u001b[0m - \u001b[1mdirecor 0.3318452835083008\u001b[0m\n",
      "\u001b[32m2023-12-22 18:15:27.409\u001b[0m | \u001b[1mINFO    \u001b[0m | \u001b[36mrecommender.recommenders.content_based_recommender\u001b[0m:\u001b[36mget_scores\u001b[0m:\u001b[36m105\u001b[0m - \u001b[1mactors 5.547190189361572\u001b[0m\n",
      "\u001b[32m2023-12-22 18:15:27.704\u001b[0m | \u001b[1mINFO    \u001b[0m | \u001b[36mrecommender.recommenders.content_based_recommender\u001b[0m:\u001b[36mget_scores\u001b[0m:\u001b[36m114\u001b[0m - \u001b[1mplots 0.2940249443054199\u001b[0m\n",
      "\u001b[32m2023-12-22 18:15:27.705\u001b[0m | \u001b[1mINFO    \u001b[0m | \u001b[36mrecommender.recommenders.content_based_recommender\u001b[0m:\u001b[36mfind_most_simmilar\u001b[0m:\u001b[36m34\u001b[0m - \u001b[1mthe scores 6.175027132034302\u001b[0m\n",
      "\u001b[32m2023-12-22 18:15:27.706\u001b[0m | \u001b[34m\u001b[1mDEBUG   \u001b[0m | \u001b[36mrecommender.recommenders.combined_recommender\u001b[0m:\u001b[36mfind_most_simmilar\u001b[0m:\u001b[36m46\u001b[0m - \u001b[34m\u001b[1mContent Based Recommendation took 6.176095008850098\u001b[0m\n",
      "[I 2023-12-22 18:15:27,711] Trial 31 finished with value: -4247816.0 and parameters: {'user': 31.696782262221433, 'content': 15.069030305424409, 'closest_relevant_users': 4, 'directors': 9.053375597465866, 'actors': 1.2301894300715557, 'plots': 2.406376778502906}. Best is trial 31 with value: -4247816.0.\n"
     ]
    },
    {
     "name": "stdout",
     "output_type": "stream",
     "text": [
      "found  Fight Club\n",
      "14 117649 1 2\n",
      "found  Fargo\n",
      "10 103823 3 4\n",
      "found  Inception\n",
      "16 64000 10 1\n",
      "found  Batman Begins\n",
      "6 42875 15 6\n",
      "found  Blade Runner\n",
      "18 15625 25 0\n"
     ]
    },
    {
     "name": "stderr",
     "output_type": "stream",
     "text": [
      "\u001b[32m2023-12-22 18:15:39.097\u001b[0m | \u001b[34m\u001b[1mDEBUG   \u001b[0m | \u001b[36mrecommender.recommenders.combined_recommender\u001b[0m:\u001b[36mfind_most_simmilar\u001b[0m:\u001b[36m40\u001b[0m - \u001b[34m\u001b[1mUser Based Recommendation took 11.373049020767212\u001b[0m\n",
      "\u001b[32m2023-12-22 18:15:39.442\u001b[0m | \u001b[1mINFO    \u001b[0m | \u001b[36mrecommender.recommenders.content_based_recommender\u001b[0m:\u001b[36mget_scores\u001b[0m:\u001b[36m88\u001b[0m - \u001b[1mdirecor 0.3441140651702881\u001b[0m\n",
      "\u001b[32m2023-12-22 18:15:44.997\u001b[0m | \u001b[1mINFO    \u001b[0m | \u001b[36mrecommender.recommenders.content_based_recommender\u001b[0m:\u001b[36mget_scores\u001b[0m:\u001b[36m105\u001b[0m - \u001b[1mactors 5.554733991622925\u001b[0m\n",
      "\u001b[32m2023-12-22 18:15:45.290\u001b[0m | \u001b[1mINFO    \u001b[0m | \u001b[36mrecommender.recommenders.content_based_recommender\u001b[0m:\u001b[36mget_scores\u001b[0m:\u001b[36m114\u001b[0m - \u001b[1mplots 0.2919328212738037\u001b[0m\n",
      "\u001b[32m2023-12-22 18:15:45.290\u001b[0m | \u001b[1mINFO    \u001b[0m | \u001b[36mrecommender.recommenders.content_based_recommender\u001b[0m:\u001b[36mfind_most_simmilar\u001b[0m:\u001b[36m34\u001b[0m - \u001b[1mthe scores 6.19282603263855\u001b[0m\n",
      "\u001b[32m2023-12-22 18:15:45.291\u001b[0m | \u001b[34m\u001b[1mDEBUG   \u001b[0m | \u001b[36mrecommender.recommenders.combined_recommender\u001b[0m:\u001b[36mfind_most_simmilar\u001b[0m:\u001b[36m46\u001b[0m - \u001b[34m\u001b[1mContent Based Recommendation took 6.193786144256592\u001b[0m\n",
      "[I 2023-12-22 18:15:45,297] Trial 32 finished with value: -3247968.0 and parameters: {'user': 31.722531075515242, 'content': 12.699081966984737, 'closest_relevant_users': 4, 'directors': 9.171688584675609, 'actors': 1.955463090321528, 'plots': 2.2677007024380034}. Best is trial 31 with value: -4247816.0.\n"
     ]
    },
    {
     "name": "stdout",
     "output_type": "stream",
     "text": [
      "found  Fargo\n",
      "10 103823 3 4\n",
      "found  Fight Club\n",
      "14 97336 4 2\n",
      "found  Inception\n",
      "16 32768 18 1\n",
      "found  Batman Begins\n",
      "6 29791 19 6\n",
      "found  Blade Runner\n",
      "18 8000 30 0\n"
     ]
    },
    {
     "name": "stderr",
     "output_type": "stream",
     "text": [
      "\u001b[32m2023-12-22 18:15:57.078\u001b[0m | \u001b[34m\u001b[1mDEBUG   \u001b[0m | \u001b[36mrecommender.recommenders.combined_recommender\u001b[0m:\u001b[36mfind_most_simmilar\u001b[0m:\u001b[36m40\u001b[0m - \u001b[34m\u001b[1mUser Based Recommendation took 11.768046855926514\u001b[0m\n",
      "\u001b[32m2023-12-22 18:15:57.444\u001b[0m | \u001b[1mINFO    \u001b[0m | \u001b[36mrecommender.recommenders.content_based_recommender\u001b[0m:\u001b[36mget_scores\u001b[0m:\u001b[36m88\u001b[0m - \u001b[1mdirecor 0.36485791206359863\u001b[0m\n",
      "\u001b[32m2023-12-22 18:16:03.236\u001b[0m | \u001b[1mINFO    \u001b[0m | \u001b[36mrecommender.recommenders.content_based_recommender\u001b[0m:\u001b[36mget_scores\u001b[0m:\u001b[36m105\u001b[0m - \u001b[1mactors 5.7916553020477295\u001b[0m\n",
      "\u001b[32m2023-12-22 18:16:03.542\u001b[0m | \u001b[1mINFO    \u001b[0m | \u001b[36mrecommender.recommenders.content_based_recommender\u001b[0m:\u001b[36mget_scores\u001b[0m:\u001b[36m114\u001b[0m - \u001b[1mplots 0.30563998222351074\u001b[0m\n",
      "\u001b[32m2023-12-22 18:16:03.543\u001b[0m | \u001b[1mINFO    \u001b[0m | \u001b[36mrecommender.recommenders.content_based_recommender\u001b[0m:\u001b[36mfind_most_simmilar\u001b[0m:\u001b[36m34\u001b[0m - \u001b[1mthe scores 6.464354038238525\u001b[0m\n",
      "\u001b[32m2023-12-22 18:16:03.544\u001b[0m | \u001b[34m\u001b[1mDEBUG   \u001b[0m | \u001b[36mrecommender.recommenders.combined_recommender\u001b[0m:\u001b[36mfind_most_simmilar\u001b[0m:\u001b[36m46\u001b[0m - \u001b[34m\u001b[1mContent Based Recommendation took 6.4657301902771\u001b[0m\n",
      "[I 2023-12-22 18:16:03,553] Trial 33 finished with value: -3358028.0 and parameters: {'user': 31.620658171201434, 'content': 15.560719396094083, 'closest_relevant_users': 7, 'directors': 9.984261030399077, 'actors': 1.1389466136909001, 'plots': 4.559020451918611}. Best is trial 31 with value: -4247816.0.\n"
     ]
    },
    {
     "name": "stdout",
     "output_type": "stream",
     "text": [
      "found  Fight Club\n",
      "14 117649 1 2\n",
      "found  Schindler's List\n",
      "2 103823 3 8\n",
      "found  Silence of the Lambs, The\n",
      "4 85184 6 7\n",
      "found  Fargo\n",
      "10 64000 10 4\n",
      "found  Inception\n",
      "16 24389 21 1\n",
      "found  Batman Begins\n",
      "6 13824 26 6\n",
      "found  Blade Runner\n",
      "18 2744 36 0\n"
     ]
    },
    {
     "name": "stderr",
     "output_type": "stream",
     "text": [
      "\u001b[32m2023-12-22 18:16:16.117\u001b[0m | \u001b[34m\u001b[1mDEBUG   \u001b[0m | \u001b[36mrecommender.recommenders.combined_recommender\u001b[0m:\u001b[36mfind_most_simmilar\u001b[0m:\u001b[36m40\u001b[0m - \u001b[34m\u001b[1mUser Based Recommendation took 12.550131797790527\u001b[0m\n",
      "\u001b[32m2023-12-22 18:16:16.486\u001b[0m | \u001b[1mINFO    \u001b[0m | \u001b[36mrecommender.recommenders.content_based_recommender\u001b[0m:\u001b[36mget_scores\u001b[0m:\u001b[36m88\u001b[0m - \u001b[1mdirecor 0.3679931163787842\u001b[0m\n",
      "\u001b[32m2023-12-22 18:16:22.572\u001b[0m | \u001b[1mINFO    \u001b[0m | \u001b[36mrecommender.recommenders.content_based_recommender\u001b[0m:\u001b[36mget_scores\u001b[0m:\u001b[36m105\u001b[0m - \u001b[1mactors 6.085862159729004\u001b[0m\n",
      "\u001b[32m2023-12-22 18:16:22.972\u001b[0m | \u001b[1mINFO    \u001b[0m | \u001b[36mrecommender.recommenders.content_based_recommender\u001b[0m:\u001b[36mget_scores\u001b[0m:\u001b[36m114\u001b[0m - \u001b[1mplots 0.39755797386169434\u001b[0m\n",
      "\u001b[32m2023-12-22 18:16:22.973\u001b[0m | \u001b[1mINFO    \u001b[0m | \u001b[36mrecommender.recommenders.content_based_recommender\u001b[0m:\u001b[36mfind_most_simmilar\u001b[0m:\u001b[36m34\u001b[0m - \u001b[1mthe scores 6.855629205703735\u001b[0m\n",
      "\u001b[32m2023-12-22 18:16:22.975\u001b[0m | \u001b[34m\u001b[1mDEBUG   \u001b[0m | \u001b[36mrecommender.recommenders.combined_recommender\u001b[0m:\u001b[36mfind_most_simmilar\u001b[0m:\u001b[36m46\u001b[0m - \u001b[34m\u001b[1mContent Based Recommendation took 6.8571319580078125\u001b[0m\n",
      "[I 2023-12-22 18:16:22,981] Trial 34 finished with value: -3133620.0 and parameters: {'user': 29.35998539271408, 'content': 15.007502914608896, 'closest_relevant_users': 7, 'directors': 7.944448946525344, 'actors': 1.2502273439307907, 'plots': 4.481526864603121}. Best is trial 31 with value: -4247816.0.\n"
     ]
    },
    {
     "name": "stdout",
     "output_type": "stream",
     "text": [
      "found  Fight Club\n",
      "14 125000 0 2\n",
      "found  Schindler's List\n",
      "2 97336 4 8\n",
      "found  Silence of the Lambs, The\n",
      "4 91125 5 7\n",
      "found  Fargo\n",
      "10 54872 12 4\n",
      "found  Inception\n",
      "16 15625 25 1\n",
      "found  Batman Begins\n",
      "6 4096 34 6\n",
      "found  Blade Runner\n",
      "18 64 46 0\n"
     ]
    },
    {
     "name": "stderr",
     "output_type": "stream",
     "text": [
      "\u001b[32m2023-12-22 18:16:25.486\u001b[0m | \u001b[34m\u001b[1mDEBUG   \u001b[0m | \u001b[36mrecommender.recommenders.combined_recommender\u001b[0m:\u001b[36mfind_most_simmilar\u001b[0m:\u001b[36m40\u001b[0m - \u001b[34m\u001b[1mUser Based Recommendation took 2.4785497188568115\u001b[0m\n",
      "\u001b[32m2023-12-22 18:16:25.849\u001b[0m | \u001b[1mINFO    \u001b[0m | \u001b[36mrecommender.recommenders.content_based_recommender\u001b[0m:\u001b[36mget_scores\u001b[0m:\u001b[36m88\u001b[0m - \u001b[1mdirecor 0.36261510848999023\u001b[0m\n",
      "\u001b[32m2023-12-22 18:16:31.792\u001b[0m | \u001b[1mINFO    \u001b[0m | \u001b[36mrecommender.recommenders.content_based_recommender\u001b[0m:\u001b[36mget_scores\u001b[0m:\u001b[36m105\u001b[0m - \u001b[1mactors 5.942607879638672\u001b[0m\n",
      "\u001b[32m2023-12-22 18:16:32.161\u001b[0m | \u001b[1mINFO    \u001b[0m | \u001b[36mrecommender.recommenders.content_based_recommender\u001b[0m:\u001b[36mget_scores\u001b[0m:\u001b[36m114\u001b[0m - \u001b[1mplots 0.3661658763885498\u001b[0m\n",
      "\u001b[32m2023-12-22 18:16:32.162\u001b[0m | \u001b[1mINFO    \u001b[0m | \u001b[36mrecommender.recommenders.content_based_recommender\u001b[0m:\u001b[36mfind_most_simmilar\u001b[0m:\u001b[36m34\u001b[0m - \u001b[1mthe scores 6.675897836685181\u001b[0m\n",
      "\u001b[32m2023-12-22 18:16:32.164\u001b[0m | \u001b[34m\u001b[1mDEBUG   \u001b[0m | \u001b[36mrecommender.recommenders.combined_recommender\u001b[0m:\u001b[36mfind_most_simmilar\u001b[0m:\u001b[36m46\u001b[0m - \u001b[34m\u001b[1mContent Based Recommendation took 6.677412033081055\u001b[0m\n",
      "[I 2023-12-22 18:16:32,180] Trial 35 finished with value: -1969112.0 and parameters: {'user': 5.959716074907988, 'content': 19.220454375978377, 'closest_relevant_users': 8, 'directors': 9.974320009989952, 'actors': 2.3122759362958143, 'plots': 0.9882217578887191}. Best is trial 31 with value: -4247816.0.\n"
     ]
    },
    {
     "name": "stdout",
     "output_type": "stream",
     "text": [
      "found  Batman Begins\n",
      "6 125000 0 6\n",
      "found  Inception\n",
      "16 39304 16 1\n",
      "found  Interstellar\n",
      "8 24389 21 5\n",
      "found  Blade Runner\n",
      "18 21952 22 0\n"
     ]
    },
    {
     "name": "stderr",
     "output_type": "stream",
     "text": [
      "\u001b[32m2023-12-22 18:16:37.758\u001b[0m | \u001b[34m\u001b[1mDEBUG   \u001b[0m | \u001b[36mrecommender.recommenders.combined_recommender\u001b[0m:\u001b[36mfind_most_simmilar\u001b[0m:\u001b[36m40\u001b[0m - \u001b[34m\u001b[1mUser Based Recommendation took 5.552586078643799\u001b[0m\n",
      "\u001b[32m2023-12-22 18:16:38.108\u001b[0m | \u001b[1mINFO    \u001b[0m | \u001b[36mrecommender.recommenders.content_based_recommender\u001b[0m:\u001b[36mget_scores\u001b[0m:\u001b[36m88\u001b[0m - \u001b[1mdirecor 0.34798431396484375\u001b[0m\n",
      "\u001b[32m2023-12-22 18:16:43.785\u001b[0m | \u001b[1mINFO    \u001b[0m | \u001b[36mrecommender.recommenders.content_based_recommender\u001b[0m:\u001b[36mget_scores\u001b[0m:\u001b[36m105\u001b[0m - \u001b[1mactors 5.677042007446289\u001b[0m\n",
      "\u001b[32m2023-12-22 18:16:44.128\u001b[0m | \u001b[1mINFO    \u001b[0m | \u001b[36mrecommender.recommenders.content_based_recommender\u001b[0m:\u001b[36mget_scores\u001b[0m:\u001b[36m114\u001b[0m - \u001b[1mplots 0.34151506423950195\u001b[0m\n",
      "\u001b[32m2023-12-22 18:16:44.128\u001b[0m | \u001b[1mINFO    \u001b[0m | \u001b[36mrecommender.recommenders.content_based_recommender\u001b[0m:\u001b[36mfind_most_simmilar\u001b[0m:\u001b[36m34\u001b[0m - \u001b[1mthe scores 6.368820905685425\u001b[0m\n",
      "\u001b[32m2023-12-22 18:16:44.129\u001b[0m | \u001b[34m\u001b[1mDEBUG   \u001b[0m | \u001b[36mrecommender.recommenders.combined_recommender\u001b[0m:\u001b[36mfind_most_simmilar\u001b[0m:\u001b[36m46\u001b[0m - \u001b[34m\u001b[1mContent Based Recommendation took 6.369755268096924\u001b[0m\n",
      "[I 2023-12-22 18:16:44,138] Trial 36 finished with value: -2255456.0 and parameters: {'user': 19.68186334256572, 'content': 15.25935408458736, 'closest_relevant_users': 10, 'directors': 5.1116088078460065, 'actors': 3.1867463065548622, 'plots': 2.407576032510279}. Best is trial 31 with value: -4247816.0.\n"
     ]
    },
    {
     "name": "stdout",
     "output_type": "stream",
     "text": [
      "found  Batman Begins\n",
      "6 97336 4 6\n",
      "found  Fargo\n",
      "10 85184 6 4\n",
      "found  Fight Club\n",
      "14 46656 14 2\n",
      "found  Schindler's List\n",
      "2 39304 16 8\n",
      "found  Silence of the Lambs, The\n",
      "4 21952 22 7\n"
     ]
    },
    {
     "name": "stderr",
     "output_type": "stream",
     "text": [
      "\u001b[32m2023-12-22 18:16:46.358\u001b[0m | \u001b[34m\u001b[1mDEBUG   \u001b[0m | \u001b[36mrecommender.recommenders.combined_recommender\u001b[0m:\u001b[36mfind_most_simmilar\u001b[0m:\u001b[36m40\u001b[0m - \u001b[34m\u001b[1mUser Based Recommendation took 2.199241876602173\u001b[0m\n",
      "\u001b[32m2023-12-22 18:16:46.698\u001b[0m | \u001b[1mINFO    \u001b[0m | \u001b[36mrecommender.recommenders.content_based_recommender\u001b[0m:\u001b[36mget_scores\u001b[0m:\u001b[36m88\u001b[0m - \u001b[1mdirecor 0.3394770622253418\u001b[0m\n",
      "\u001b[32m2023-12-22 18:16:52.698\u001b[0m | \u001b[1mINFO    \u001b[0m | \u001b[36mrecommender.recommenders.content_based_recommender\u001b[0m:\u001b[36mget_scores\u001b[0m:\u001b[36m105\u001b[0m - \u001b[1mactors 5.99989914894104\u001b[0m\n",
      "\u001b[32m2023-12-22 18:16:52.996\u001b[0m | \u001b[1mINFO    \u001b[0m | \u001b[36mrecommender.recommenders.content_based_recommender\u001b[0m:\u001b[36mget_scores\u001b[0m:\u001b[36m114\u001b[0m - \u001b[1mplots 0.29636597633361816\u001b[0m\n",
      "\u001b[32m2023-12-22 18:16:52.996\u001b[0m | \u001b[1mINFO    \u001b[0m | \u001b[36mrecommender.recommenders.content_based_recommender\u001b[0m:\u001b[36mfind_most_simmilar\u001b[0m:\u001b[36m34\u001b[0m - \u001b[1mthe scores 6.637938976287842\u001b[0m\n",
      "\u001b[32m2023-12-22 18:16:52.997\u001b[0m | \u001b[34m\u001b[1mDEBUG   \u001b[0m | \u001b[36mrecommender.recommenders.combined_recommender\u001b[0m:\u001b[36mfind_most_simmilar\u001b[0m:\u001b[36m46\u001b[0m - \u001b[34m\u001b[1mContent Based Recommendation took 6.639149188995361\u001b[0m\n",
      "[I 2023-12-22 18:16:53,005] Trial 37 finished with value: -2093508.0 and parameters: {'user': 34.86823826926132, 'content': 13.504791392295314, 'closest_relevant_users': 7, 'directors': 9.241028567573219, 'actors': 8.717146549405637, 'plots': 4.688826842397969}. Best is trial 31 with value: -4247816.0.\n"
     ]
    },
    {
     "name": "stdout",
     "output_type": "stream",
     "text": [
      "found  Batman Begins\n",
      "6 85184 6 6\n",
      "found  Fight Club\n",
      "14 64000 10 2\n",
      "found  Fargo\n",
      "10 50653 13 4\n",
      "found  Schindler's List\n",
      "2 35937 17 8\n",
      "found  Silence of the Lambs, The\n",
      "4 27000 20 7\n"
     ]
    },
    {
     "name": "stderr",
     "output_type": "stream",
     "text": [
      "\u001b[32m2023-12-22 18:16:56.864\u001b[0m | \u001b[34m\u001b[1mDEBUG   \u001b[0m | \u001b[36mrecommender.recommenders.combined_recommender\u001b[0m:\u001b[36mfind_most_simmilar\u001b[0m:\u001b[36m40\u001b[0m - \u001b[34m\u001b[1mUser Based Recommendation took 3.8447160720825195\u001b[0m\n",
      "\u001b[32m2023-12-22 18:16:57.209\u001b[0m | \u001b[1mINFO    \u001b[0m | \u001b[36mrecommender.recommenders.content_based_recommender\u001b[0m:\u001b[36mget_scores\u001b[0m:\u001b[36m88\u001b[0m - \u001b[1mdirecor 0.34345483779907227\u001b[0m\n",
      "\u001b[32m2023-12-22 18:17:03.894\u001b[0m | \u001b[1mINFO    \u001b[0m | \u001b[36mrecommender.recommenders.content_based_recommender\u001b[0m:\u001b[36mget_scores\u001b[0m:\u001b[36m105\u001b[0m - \u001b[1mactors 6.684024095535278\u001b[0m\n",
      "\u001b[32m2023-12-22 18:17:04.197\u001b[0m | \u001b[1mINFO    \u001b[0m | \u001b[36mrecommender.recommenders.content_based_recommender\u001b[0m:\u001b[36mget_scores\u001b[0m:\u001b[36m114\u001b[0m - \u001b[1mplots 0.3018171787261963\u001b[0m\n",
      "\u001b[32m2023-12-22 18:17:04.198\u001b[0m | \u001b[1mINFO    \u001b[0m | \u001b[36mrecommender.recommenders.content_based_recommender\u001b[0m:\u001b[36mfind_most_simmilar\u001b[0m:\u001b[36m34\u001b[0m - \u001b[1mthe scores 7.332032203674316\u001b[0m\n",
      "\u001b[32m2023-12-22 18:17:04.199\u001b[0m | \u001b[34m\u001b[1mDEBUG   \u001b[0m | \u001b[36mrecommender.recommenders.combined_recommender\u001b[0m:\u001b[36mfind_most_simmilar\u001b[0m:\u001b[36m46\u001b[0m - \u001b[34m\u001b[1mContent Based Recommendation took 7.333021402359009\u001b[0m\n",
      "[I 2023-12-22 18:17:04,206] Trial 38 finished with value: -2771260.0 and parameters: {'user': 47.0406996642961, 'content': 17.544366467846693, 'closest_relevant_users': 6, 'directors': 8.132775042707982, 'actors': 1.2280654431710998, 'plots': 5.1051678562800324}. Best is trial 31 with value: -4247816.0.\n"
     ]
    },
    {
     "name": "stdout",
     "output_type": "stream",
     "text": [
      "found  Fight Club\n",
      "14 125000 0 2\n",
      "found  Fargo\n",
      "10 79507 7 4\n",
      "found  Schindler's List\n",
      "2 35937 17 8\n",
      "found  Silence of the Lambs, The\n",
      "4 29791 19 7\n",
      "found  Inception\n",
      "16 2197 37 1\n"
     ]
    },
    {
     "name": "stderr",
     "output_type": "stream",
     "text": [
      "\u001b[32m2023-12-22 18:17:09.682\u001b[0m | \u001b[34m\u001b[1mDEBUG   \u001b[0m | \u001b[36mrecommender.recommenders.combined_recommender\u001b[0m:\u001b[36mfind_most_simmilar\u001b[0m:\u001b[36m40\u001b[0m - \u001b[34m\u001b[1mUser Based Recommendation took 5.46175217628479\u001b[0m\n",
      "\u001b[32m2023-12-22 18:17:10.082\u001b[0m | \u001b[1mINFO    \u001b[0m | \u001b[36mrecommender.recommenders.content_based_recommender\u001b[0m:\u001b[36mget_scores\u001b[0m:\u001b[36m88\u001b[0m - \u001b[1mdirecor 0.3975679874420166\u001b[0m\n",
      "\u001b[32m2023-12-22 18:17:16.182\u001b[0m | \u001b[1mINFO    \u001b[0m | \u001b[36mrecommender.recommenders.content_based_recommender\u001b[0m:\u001b[36mget_scores\u001b[0m:\u001b[36m105\u001b[0m - \u001b[1mactors 6.098440885543823\u001b[0m\n",
      "\u001b[32m2023-12-22 18:17:16.539\u001b[0m | \u001b[1mINFO    \u001b[0m | \u001b[36mrecommender.recommenders.content_based_recommender\u001b[0m:\u001b[36mget_scores\u001b[0m:\u001b[36m114\u001b[0m - \u001b[1mplots 0.3483400344848633\u001b[0m\n",
      "\u001b[32m2023-12-22 18:17:16.539\u001b[0m | \u001b[1mINFO    \u001b[0m | \u001b[36mrecommender.recommenders.content_based_recommender\u001b[0m:\u001b[36mfind_most_simmilar\u001b[0m:\u001b[36m34\u001b[0m - \u001b[1mthe scores 6.85518217086792\u001b[0m\n",
      "\u001b[32m2023-12-22 18:17:16.540\u001b[0m | \u001b[34m\u001b[1mDEBUG   \u001b[0m | \u001b[36mrecommender.recommenders.combined_recommender\u001b[0m:\u001b[36mfind_most_simmilar\u001b[0m:\u001b[36m46\u001b[0m - \u001b[34m\u001b[1mContent Based Recommendation took 6.856174945831299\u001b[0m\n",
      "[I 2023-12-22 18:17:16,548] Trial 39 finished with value: -2261376.0 and parameters: {'user': 23.731634973521118, 'content': 15.583064209284265, 'closest_relevant_users': 9, 'directors': 6.950112724076639, 'actors': 2.1598210984158905, 'plots': 2.143775291981477}. Best is trial 31 with value: -4247816.0.\n"
     ]
    },
    {
     "name": "stdout",
     "output_type": "stream",
     "text": [
      "found  Fargo\n",
      "10 91125 5 4\n",
      "found  Fight Club\n",
      "14 64000 10 2\n",
      "found  Schindler's List\n",
      "2 59319 11 8\n",
      "found  Silence of the Lambs, The\n",
      "4 39304 16 7\n",
      "found  Batman Begins\n",
      "6 19683 23 6\n",
      "found  Inception\n",
      "16 3375 35 1\n",
      "found  Blade Runner\n",
      "18 343 43 0\n"
     ]
    },
    {
     "name": "stderr",
     "output_type": "stream",
     "text": [
      "\u001b[32m2023-12-22 18:17:19.021\u001b[0m | \u001b[34m\u001b[1mDEBUG   \u001b[0m | \u001b[36mrecommender.recommenders.combined_recommender\u001b[0m:\u001b[36mfind_most_simmilar\u001b[0m:\u001b[36m40\u001b[0m - \u001b[34m\u001b[1mUser Based Recommendation took 2.460718870162964\u001b[0m\n",
      "\u001b[32m2023-12-22 18:17:19.459\u001b[0m | \u001b[1mINFO    \u001b[0m | \u001b[36mrecommender.recommenders.content_based_recommender\u001b[0m:\u001b[36mget_scores\u001b[0m:\u001b[36m88\u001b[0m - \u001b[1mdirecor 0.43713808059692383\u001b[0m\n",
      "\u001b[32m2023-12-22 18:17:25.878\u001b[0m | \u001b[1mINFO    \u001b[0m | \u001b[36mrecommender.recommenders.content_based_recommender\u001b[0m:\u001b[36mget_scores\u001b[0m:\u001b[36m105\u001b[0m - \u001b[1mactors 6.416887998580933\u001b[0m\n",
      "\u001b[32m2023-12-22 18:17:26.213\u001b[0m | \u001b[1mINFO    \u001b[0m | \u001b[36mrecommender.recommenders.content_based_recommender\u001b[0m:\u001b[36mget_scores\u001b[0m:\u001b[36m114\u001b[0m - \u001b[1mplots 0.3342440128326416\u001b[0m\n",
      "\u001b[32m2023-12-22 18:17:26.214\u001b[0m | \u001b[1mINFO    \u001b[0m | \u001b[36mrecommender.recommenders.content_based_recommender\u001b[0m:\u001b[36mfind_most_simmilar\u001b[0m:\u001b[36m34\u001b[0m - \u001b[1mthe scores 7.191453218460083\u001b[0m\n",
      "\u001b[32m2023-12-22 18:17:26.215\u001b[0m | \u001b[34m\u001b[1mDEBUG   \u001b[0m | \u001b[36mrecommender.recommenders.combined_recommender\u001b[0m:\u001b[36mfind_most_simmilar\u001b[0m:\u001b[36m46\u001b[0m - \u001b[34m\u001b[1mContent Based Recommendation took 7.192575931549072\u001b[0m\n",
      "[I 2023-12-22 18:17:26,222] Trial 40 finished with value: -1675078.0 and parameters: {'user': 10.139037698115168, 'content': 14.360368866820746, 'closest_relevant_users': 8, 'directors': 6.001448347091172, 'actors': 2.718842221755861, 'plots': 0.2188888846407775}. Best is trial 31 with value: -4247816.0.\n"
     ]
    },
    {
     "name": "stdout",
     "output_type": "stream",
     "text": [
      "found  Batman Begins\n",
      "6 97336 4 6\n",
      "found  Schindler's List\n",
      "2 54872 12 8\n",
      "found  Fargo\n",
      "10 32768 18 4\n",
      "found  Fight Club\n",
      "14 27000 20 2\n",
      "found  Inception\n",
      "16 9261 29 1\n",
      "found  Blade Runner\n",
      "18 6859 31 0\n",
      "found  Silence of the Lambs, The\n",
      "4 1000 40 7\n"
     ]
    },
    {
     "name": "stderr",
     "output_type": "stream",
     "text": [
      "\u001b[32m2023-12-22 18:17:28.807\u001b[0m | \u001b[34m\u001b[1mDEBUG   \u001b[0m | \u001b[36mrecommender.recommenders.combined_recommender\u001b[0m:\u001b[36mfind_most_simmilar\u001b[0m:\u001b[36m40\u001b[0m - \u001b[34m\u001b[1mUser Based Recommendation took 2.563416004180908\u001b[0m\n",
      "\u001b[32m2023-12-22 18:17:29.173\u001b[0m | \u001b[1mINFO    \u001b[0m | \u001b[36mrecommender.recommenders.content_based_recommender\u001b[0m:\u001b[36mget_scores\u001b[0m:\u001b[36m88\u001b[0m - \u001b[1mdirecor 0.36502504348754883\u001b[0m\n",
      "\u001b[32m2023-12-22 18:17:35.315\u001b[0m | \u001b[1mINFO    \u001b[0m | \u001b[36mrecommender.recommenders.content_based_recommender\u001b[0m:\u001b[36mget_scores\u001b[0m:\u001b[36m105\u001b[0m - \u001b[1mactors 6.141187906265259\u001b[0m\n",
      "\u001b[32m2023-12-22 18:17:35.625\u001b[0m | \u001b[1mINFO    \u001b[0m | \u001b[36mrecommender.recommenders.content_based_recommender\u001b[0m:\u001b[36mget_scores\u001b[0m:\u001b[36m114\u001b[0m - \u001b[1mplots 0.3085000514984131\u001b[0m\n",
      "\u001b[32m2023-12-22 18:17:35.626\u001b[0m | \u001b[1mINFO    \u001b[0m | \u001b[36mrecommender.recommenders.content_based_recommender\u001b[0m:\u001b[36mfind_most_simmilar\u001b[0m:\u001b[36m34\u001b[0m - \u001b[1mthe scores 6.818027019500732\u001b[0m\n",
      "\u001b[32m2023-12-22 18:17:35.627\u001b[0m | \u001b[34m\u001b[1mDEBUG   \u001b[0m | \u001b[36mrecommender.recommenders.combined_recommender\u001b[0m:\u001b[36mfind_most_simmilar\u001b[0m:\u001b[36m46\u001b[0m - \u001b[34m\u001b[1mContent Based Recommendation took 6.8190758228302\u001b[0m\n",
      "[I 2023-12-22 18:17:35,634] Trial 41 finished with value: -3065226.0 and parameters: {'user': 48.488624729974816, 'content': 11.20189891124874, 'closest_relevant_users': 3, 'directors': 9.963289547004857, 'actors': 0.6964763600180612, 'plots': 2.968673342703007}. Best is trial 31 with value: -4247816.0.\n"
     ]
    },
    {
     "name": "stdout",
     "output_type": "stream",
     "text": [
      "found  Fight Club\n",
      "14 125000 0 2\n",
      "found  Fargo\n",
      "10 110592 2 4\n",
      "found  Schindler's List\n",
      "2 50653 13 8\n",
      "found  Silence of the Lambs, The\n",
      "4 27000 20 7\n"
     ]
    },
    {
     "name": "stderr",
     "output_type": "stream",
     "text": [
      "\u001b[32m2023-12-22 18:17:45.183\u001b[0m | \u001b[34m\u001b[1mDEBUG   \u001b[0m | \u001b[36mrecommender.recommenders.combined_recommender\u001b[0m:\u001b[36mfind_most_simmilar\u001b[0m:\u001b[36m40\u001b[0m - \u001b[34m\u001b[1mUser Based Recommendation took 9.534168243408203\u001b[0m\n",
      "\u001b[32m2023-12-22 18:17:45.537\u001b[0m | \u001b[1mINFO    \u001b[0m | \u001b[36mrecommender.recommenders.content_based_recommender\u001b[0m:\u001b[36mget_scores\u001b[0m:\u001b[36m88\u001b[0m - \u001b[1mdirecor 0.35419797897338867\u001b[0m\n",
      "\u001b[32m2023-12-22 18:17:51.369\u001b[0m | \u001b[1mINFO    \u001b[0m | \u001b[36mrecommender.recommenders.content_based_recommender\u001b[0m:\u001b[36mget_scores\u001b[0m:\u001b[36m105\u001b[0m - \u001b[1mactors 5.831073045730591\u001b[0m\n",
      "\u001b[32m2023-12-22 18:17:51.691\u001b[0m | \u001b[1mINFO    \u001b[0m | \u001b[36mrecommender.recommenders.content_based_recommender\u001b[0m:\u001b[36mget_scores\u001b[0m:\u001b[36m114\u001b[0m - \u001b[1mplots 0.32150769233703613\u001b[0m\n",
      "\u001b[32m2023-12-22 18:17:51.692\u001b[0m | \u001b[1mINFO    \u001b[0m | \u001b[36mrecommender.recommenders.content_based_recommender\u001b[0m:\u001b[36mfind_most_simmilar\u001b[0m:\u001b[36m34\u001b[0m - \u001b[1mthe scores 6.5088067054748535\u001b[0m\n",
      "\u001b[32m2023-12-22 18:17:51.693\u001b[0m | \u001b[34m\u001b[1mDEBUG   \u001b[0m | \u001b[36mrecommender.recommenders.combined_recommender\u001b[0m:\u001b[36mfind_most_simmilar\u001b[0m:\u001b[36m46\u001b[0m - \u001b[34m\u001b[1mContent Based Recommendation took 6.509952068328857\u001b[0m\n",
      "[I 2023-12-22 18:17:51,701] Trial 42 finished with value: -3297306.0 and parameters: {'user': 28.695793189106844, 'content': 10.78539887800126, 'closest_relevant_users': 4, 'directors': 9.49329395857493, 'actors': 1.5819847002461138, 'plots': 4.3251433804010215}. Best is trial 31 with value: -4247816.0.\n"
     ]
    },
    {
     "name": "stdout",
     "output_type": "stream",
     "text": [
      "found  Fight Club\n",
      "14 103823 3 2\n",
      "found  Fargo\n",
      "10 97336 4 4\n",
      "found  Inception\n",
      "16 39304 16 1\n",
      "found  Batman Begins\n",
      "6 19683 23 6\n",
      "found  Blade Runner\n",
      "18 6859 31 0\n"
     ]
    },
    {
     "name": "stderr",
     "output_type": "stream",
     "text": [
      "\u001b[32m2023-12-22 18:17:56.363\u001b[0m | \u001b[34m\u001b[1mDEBUG   \u001b[0m | \u001b[36mrecommender.recommenders.combined_recommender\u001b[0m:\u001b[36mfind_most_simmilar\u001b[0m:\u001b[36m40\u001b[0m - \u001b[34m\u001b[1mUser Based Recommendation took 4.642149925231934\u001b[0m\n",
      "\u001b[32m2023-12-22 18:17:56.732\u001b[0m | \u001b[1mINFO    \u001b[0m | \u001b[36mrecommender.recommenders.content_based_recommender\u001b[0m:\u001b[36mget_scores\u001b[0m:\u001b[36m88\u001b[0m - \u001b[1mdirecor 0.3671092987060547\u001b[0m\n",
      "\u001b[32m2023-12-22 18:18:03.288\u001b[0m | \u001b[1mINFO    \u001b[0m | \u001b[36mrecommender.recommenders.content_based_recommender\u001b[0m:\u001b[36mget_scores\u001b[0m:\u001b[36m105\u001b[0m - \u001b[1mactors 6.555840969085693\u001b[0m\n",
      "\u001b[32m2023-12-22 18:18:03.664\u001b[0m | \u001b[1mINFO    \u001b[0m | \u001b[36mrecommender.recommenders.content_based_recommender\u001b[0m:\u001b[36mget_scores\u001b[0m:\u001b[36m114\u001b[0m - \u001b[1mplots 0.3749270439147949\u001b[0m\n",
      "\u001b[32m2023-12-22 18:18:03.666\u001b[0m | \u001b[1mINFO    \u001b[0m | \u001b[36mrecommender.recommenders.content_based_recommender\u001b[0m:\u001b[36mfind_most_simmilar\u001b[0m:\u001b[36m34\u001b[0m - \u001b[1mthe scores 7.301501274108887\u001b[0m\n",
      "\u001b[32m2023-12-22 18:18:03.668\u001b[0m | \u001b[34m\u001b[1mDEBUG   \u001b[0m | \u001b[36mrecommender.recommenders.combined_recommender\u001b[0m:\u001b[36mfind_most_simmilar\u001b[0m:\u001b[36m46\u001b[0m - \u001b[34m\u001b[1mContent Based Recommendation took 7.303483009338379\u001b[0m\n",
      "[I 2023-12-22 18:18:03,692] Trial 43 finished with value: -3309638.0 and parameters: {'user': 35.820642592530774, 'content': 12.56058431077423, 'closest_relevant_users': 3, 'directors': 8.878400007700002, 'actors': 0.7412404304823834, 'plots': 2.6961046327523928}. Best is trial 31 with value: -4247816.0.\n"
     ]
    },
    {
     "name": "stdout",
     "output_type": "stream",
     "text": [
      "found  Fight Club\n",
      "14 117649 1 2\n",
      "found  Fargo\n",
      "10 110592 2 4\n",
      "found  Schindler's List\n",
      "2 50653 13 8\n",
      "found  Batman Begins\n",
      "6 24389 21 6\n",
      "found  Silence of the Lambs, The\n",
      "4 21952 22 7\n",
      "found  Inception\n",
      "16 13824 26 1\n"
     ]
    },
    {
     "name": "stderr",
     "output_type": "stream",
     "text": [
      "\u001b[32m2023-12-22 18:18:16.658\u001b[0m | \u001b[34m\u001b[1mDEBUG   \u001b[0m | \u001b[36mrecommender.recommenders.combined_recommender\u001b[0m:\u001b[36mfind_most_simmilar\u001b[0m:\u001b[36m40\u001b[0m - \u001b[34m\u001b[1mUser Based Recommendation took 12.949480772018433\u001b[0m\n",
      "\u001b[32m2023-12-22 18:18:17.055\u001b[0m | \u001b[1mINFO    \u001b[0m | \u001b[36mrecommender.recommenders.content_based_recommender\u001b[0m:\u001b[36mget_scores\u001b[0m:\u001b[36m88\u001b[0m - \u001b[1mdirecor 0.39558911323547363\u001b[0m\n",
      "\u001b[32m2023-12-22 18:18:23.275\u001b[0m | \u001b[1mINFO    \u001b[0m | \u001b[36mrecommender.recommenders.content_based_recommender\u001b[0m:\u001b[36mget_scores\u001b[0m:\u001b[36m105\u001b[0m - \u001b[1mactors 6.21795392036438\u001b[0m\n",
      "\u001b[32m2023-12-22 18:18:23.607\u001b[0m | \u001b[1mINFO    \u001b[0m | \u001b[36mrecommender.recommenders.content_based_recommender\u001b[0m:\u001b[36mget_scores\u001b[0m:\u001b[36m114\u001b[0m - \u001b[1mplots 0.33208584785461426\u001b[0m\n",
      "\u001b[32m2023-12-22 18:18:23.608\u001b[0m | \u001b[1mINFO    \u001b[0m | \u001b[36mrecommender.recommenders.content_based_recommender\u001b[0m:\u001b[36mfind_most_simmilar\u001b[0m:\u001b[36m34\u001b[0m - \u001b[1mthe scores 6.948800802230835\u001b[0m\n",
      "\u001b[32m2023-12-22 18:18:23.610\u001b[0m | \u001b[34m\u001b[1mDEBUG   \u001b[0m | \u001b[36mrecommender.recommenders.combined_recommender\u001b[0m:\u001b[36mfind_most_simmilar\u001b[0m:\u001b[36m46\u001b[0m - \u001b[34m\u001b[1mContent Based Recommendation took 6.950451850891113\u001b[0m\n",
      "[I 2023-12-22 18:18:23,621] Trial 44 finished with value: -3335468.0 and parameters: {'user': 19.248163487318706, 'content': 8.16921716211133, 'closest_relevant_users': 5, 'directors': 9.592846075351574, 'actors': 1.7536070500932495, 'plots': 3.467981521811008}. Best is trial 31 with value: -4247816.0.\n"
     ]
    },
    {
     "name": "stdout",
     "output_type": "stream",
     "text": [
      "found  Fight Club\n",
      "14 117649 1 2\n",
      "found  Fargo\n",
      "10 74088 8 4\n",
      "found  Schindler's List\n",
      "2 54872 12 8\n",
      "found  Inception\n",
      "16 35937 17 1\n",
      "found  Batman Begins\n",
      "6 21952 22 6\n",
      "found  Silence of the Lambs, The\n",
      "4 17576 24 7\n",
      "found  Blade Runner\n",
      "18 3375 35 0\n"
     ]
    },
    {
     "name": "stderr",
     "output_type": "stream",
     "text": [
      "\u001b[32m2023-12-22 18:18:26.167\u001b[0m | \u001b[34m\u001b[1mDEBUG   \u001b[0m | \u001b[36mrecommender.recommenders.combined_recommender\u001b[0m:\u001b[36mfind_most_simmilar\u001b[0m:\u001b[36m40\u001b[0m - \u001b[34m\u001b[1mUser Based Recommendation took 2.527803897857666\u001b[0m\n",
      "\u001b[32m2023-12-22 18:18:26.620\u001b[0m | \u001b[1mINFO    \u001b[0m | \u001b[36mrecommender.recommenders.content_based_recommender\u001b[0m:\u001b[36mget_scores\u001b[0m:\u001b[36m88\u001b[0m - \u001b[1mdirecor 0.4521160125732422\u001b[0m\n",
      "\u001b[32m2023-12-22 18:18:32.820\u001b[0m | \u001b[1mINFO    \u001b[0m | \u001b[36mrecommender.recommenders.content_based_recommender\u001b[0m:\u001b[36mget_scores\u001b[0m:\u001b[36m105\u001b[0m - \u001b[1mactors 6.199410915374756\u001b[0m\n",
      "\u001b[32m2023-12-22 18:18:33.141\u001b[0m | \u001b[1mINFO    \u001b[0m | \u001b[36mrecommender.recommenders.content_based_recommender\u001b[0m:\u001b[36mget_scores\u001b[0m:\u001b[36m114\u001b[0m - \u001b[1mplots 0.3201639652252197\u001b[0m\n",
      "\u001b[32m2023-12-22 18:18:33.142\u001b[0m | \u001b[1mINFO    \u001b[0m | \u001b[36mrecommender.recommenders.content_based_recommender\u001b[0m:\u001b[36mfind_most_simmilar\u001b[0m:\u001b[36m34\u001b[0m - \u001b[1mthe scores 6.974405765533447\u001b[0m\n",
      "\u001b[32m2023-12-22 18:18:33.143\u001b[0m | \u001b[34m\u001b[1mDEBUG   \u001b[0m | \u001b[36mrecommender.recommenders.combined_recommender\u001b[0m:\u001b[36mfind_most_simmilar\u001b[0m:\u001b[36m46\u001b[0m - \u001b[34m\u001b[1mContent Based Recommendation took 6.975462913513184\u001b[0m\n",
      "[I 2023-12-22 18:18:33,152] Trial 45 finished with value: -2864344.0 and parameters: {'user': 15.815760931656907, 'content': 7.878742351641111, 'closest_relevant_users': 6, 'directors': 9.005924979031906, 'actors': 1.6869985994530927, 'plots': 5.83708674180659}. Best is trial 31 with value: -4247816.0.\n"
     ]
    },
    {
     "name": "stdout",
     "output_type": "stream",
     "text": [
      "found  Fight Club\n",
      "14 117649 1 2\n",
      "found  Fargo\n",
      "10 59319 11 4\n",
      "found  Schindler's List\n",
      "2 32768 18 8\n",
      "found  Batman Begins\n",
      "6 21952 22 6\n",
      "found  Inception\n",
      "16 19683 23 1\n",
      "found  Silence of the Lambs, The\n",
      "4 15625 25 7\n",
      "found  Blade Runner\n",
      "18 2744 36 0\n"
     ]
    },
    {
     "name": "stderr",
     "output_type": "stream",
     "text": [
      "\u001b[32m2023-12-22 18:18:37.072\u001b[0m | \u001b[34m\u001b[1mDEBUG   \u001b[0m | \u001b[36mrecommender.recommenders.combined_recommender\u001b[0m:\u001b[36mfind_most_simmilar\u001b[0m:\u001b[36m40\u001b[0m - \u001b[34m\u001b[1mUser Based Recommendation took 3.9026050567626953\u001b[0m\n",
      "\u001b[32m2023-12-22 18:18:37.428\u001b[0m | \u001b[1mINFO    \u001b[0m | \u001b[36mrecommender.recommenders.content_based_recommender\u001b[0m:\u001b[36mget_scores\u001b[0m:\u001b[36m88\u001b[0m - \u001b[1mdirecor 0.3556828498840332\u001b[0m\n",
      "\u001b[32m2023-12-22 18:18:43.491\u001b[0m | \u001b[1mINFO    \u001b[0m | \u001b[36mrecommender.recommenders.content_based_recommender\u001b[0m:\u001b[36mget_scores\u001b[0m:\u001b[36m105\u001b[0m - \u001b[1mactors 6.061766147613525\u001b[0m\n",
      "\u001b[32m2023-12-22 18:18:43.805\u001b[0m | \u001b[1mINFO    \u001b[0m | \u001b[36mrecommender.recommenders.content_based_recommender\u001b[0m:\u001b[36mget_scores\u001b[0m:\u001b[36m114\u001b[0m - \u001b[1mplots 0.3126957416534424\u001b[0m\n",
      "\u001b[32m2023-12-22 18:18:43.806\u001b[0m | \u001b[1mINFO    \u001b[0m | \u001b[36mrecommender.recommenders.content_based_recommender\u001b[0m:\u001b[36mfind_most_simmilar\u001b[0m:\u001b[36m34\u001b[0m - \u001b[1mthe scores 6.732885122299194\u001b[0m\n",
      "\u001b[32m2023-12-22 18:18:43.807\u001b[0m | \u001b[34m\u001b[1mDEBUG   \u001b[0m | \u001b[36mrecommender.recommenders.combined_recommender\u001b[0m:\u001b[36mfind_most_simmilar\u001b[0m:\u001b[36m46\u001b[0m - \u001b[34m\u001b[1mContent Based Recommendation took 6.733831882476807\u001b[0m\n",
      "[I 2023-12-22 18:18:43,813] Trial 46 finished with value: -2932998.0 and parameters: {'user': 21.152430453156615, 'content': 5.672580124125361, 'closest_relevant_users': 5, 'directors': 8.17867392072265, 'actors': 1.413794503932239, 'plots': 1.4085163653285306}. Best is trial 31 with value: -4247816.0.\n"
     ]
    },
    {
     "name": "stdout",
     "output_type": "stream",
     "text": [
      "found  Fight Club\n",
      "14 125000 0 2\n",
      "found  Fargo\n",
      "10 91125 5 4\n",
      "found  Schindler's List\n",
      "2 64000 10 8\n",
      "found  Silence of the Lambs, The\n",
      "4 35937 17 7\n"
     ]
    },
    {
     "name": "stderr",
     "output_type": "stream",
     "text": [
      "\u001b[32m2023-12-22 18:18:47.897\u001b[0m | \u001b[34m\u001b[1mDEBUG   \u001b[0m | \u001b[36mrecommender.recommenders.combined_recommender\u001b[0m:\u001b[36mfind_most_simmilar\u001b[0m:\u001b[36m40\u001b[0m - \u001b[34m\u001b[1mUser Based Recommendation took 4.064424753189087\u001b[0m\n",
      "\u001b[32m2023-12-22 18:18:48.270\u001b[0m | \u001b[1mINFO    \u001b[0m | \u001b[36mrecommender.recommenders.content_based_recommender\u001b[0m:\u001b[36mget_scores\u001b[0m:\u001b[36m88\u001b[0m - \u001b[1mdirecor 0.37225890159606934\u001b[0m\n",
      "\u001b[32m2023-12-22 18:18:54.565\u001b[0m | \u001b[1mINFO    \u001b[0m | \u001b[36mrecommender.recommenders.content_based_recommender\u001b[0m:\u001b[36mget_scores\u001b[0m:\u001b[36m105\u001b[0m - \u001b[1mactors 6.294969797134399\u001b[0m\n",
      "\u001b[32m2023-12-22 18:18:54.913\u001b[0m | \u001b[1mINFO    \u001b[0m | \u001b[36mrecommender.recommenders.content_based_recommender\u001b[0m:\u001b[36mget_scores\u001b[0m:\u001b[36m114\u001b[0m - \u001b[1mplots 0.34694910049438477\u001b[0m\n",
      "\u001b[32m2023-12-22 18:18:54.914\u001b[0m | \u001b[1mINFO    \u001b[0m | \u001b[36mrecommender.recommenders.content_based_recommender\u001b[0m:\u001b[36mfind_most_simmilar\u001b[0m:\u001b[36m34\u001b[0m - \u001b[1mthe scores 7.016359329223633\u001b[0m\n",
      "\u001b[32m2023-12-22 18:18:54.915\u001b[0m | \u001b[34m\u001b[1mDEBUG   \u001b[0m | \u001b[36mrecommender.recommenders.combined_recommender\u001b[0m:\u001b[36mfind_most_simmilar\u001b[0m:\u001b[36m46\u001b[0m - \u001b[34m\u001b[1mContent Based Recommendation took 7.017370700836182\u001b[0m\n",
      "[I 2023-12-22 18:18:54,930] Trial 47 finished with value: -672762.0 and parameters: {'user': 3.6577838006814076, 'content': 7.4662080229469785, 'closest_relevant_users': 6, 'directors': 7.186196315616725, 'actors': 3.8389949777298735, 'plots': 0.7376693138111494}. Best is trial 31 with value: -4247816.0.\n"
     ]
    },
    {
     "name": "stdout",
     "output_type": "stream",
     "text": [
      "found  Batman Begins\n",
      "6 103823 3 6\n",
      "found  Blade Runner\n",
      "18 2744 36 0\n",
      "found  Inception\n",
      "16 27 47 1\n"
     ]
    },
    {
     "name": "stderr",
     "output_type": "stream",
     "text": [
      "\u001b[32m2023-12-22 18:18:59.716\u001b[0m | \u001b[34m\u001b[1mDEBUG   \u001b[0m | \u001b[36mrecommender.recommenders.combined_recommender\u001b[0m:\u001b[36mfind_most_simmilar\u001b[0m:\u001b[36m40\u001b[0m - \u001b[34m\u001b[1mUser Based Recommendation took 4.771611213684082\u001b[0m\n",
      "\u001b[32m2023-12-22 18:19:00.121\u001b[0m | \u001b[1mINFO    \u001b[0m | \u001b[36mrecommender.recommenders.content_based_recommender\u001b[0m:\u001b[36mget_scores\u001b[0m:\u001b[36m88\u001b[0m - \u001b[1mdirecor 0.4008500576019287\u001b[0m\n",
      "\u001b[32m2023-12-22 18:19:06.349\u001b[0m | \u001b[1mINFO    \u001b[0m | \u001b[36mrecommender.recommenders.content_based_recommender\u001b[0m:\u001b[36mget_scores\u001b[0m:\u001b[36m105\u001b[0m - \u001b[1mactors 6.227006196975708\u001b[0m\n",
      "\u001b[32m2023-12-22 18:19:06.805\u001b[0m | \u001b[1mINFO    \u001b[0m | \u001b[36mrecommender.recommenders.content_based_recommender\u001b[0m:\u001b[36mget_scores\u001b[0m:\u001b[36m114\u001b[0m - \u001b[1mplots 0.45146989822387695\u001b[0m\n",
      "\u001b[32m2023-12-22 18:19:06.807\u001b[0m | \u001b[1mINFO    \u001b[0m | \u001b[36mrecommender.recommenders.content_based_recommender\u001b[0m:\u001b[36mfind_most_simmilar\u001b[0m:\u001b[36m34\u001b[0m - \u001b[1mthe scores 7.087383031845093\u001b[0m\n",
      "\u001b[32m2023-12-22 18:19:06.810\u001b[0m | \u001b[34m\u001b[1mDEBUG   \u001b[0m | \u001b[36mrecommender.recommenders.combined_recommender\u001b[0m:\u001b[36mfind_most_simmilar\u001b[0m:\u001b[36m46\u001b[0m - \u001b[34m\u001b[1mContent Based Recommendation took 7.090773820877075\u001b[0m\n",
      "[I 2023-12-22 18:19:06,828] Trial 48 finished with value: -2844466.0 and parameters: {'user': 33.31987430105625, 'content': 8.621882203892284, 'closest_relevant_users': 5, 'directors': 9.438012249309502, 'actors': 4.568333203661014, 'plots': 3.541015311635479}. Best is trial 31 with value: -4247816.0.\n"
     ]
    },
    {
     "name": "stdout",
     "output_type": "stream",
     "text": [
      "found  Fight Club\n",
      "14 125000 0 2\n",
      "found  Fargo\n",
      "10 85184 6 4\n",
      "found  Schindler's List\n",
      "2 35937 17 8\n",
      "found  Silence of the Lambs, The\n",
      "4 21952 22 7\n",
      "found  Batman Begins\n",
      "6 13824 26 6\n"
     ]
    },
    {
     "name": "stderr",
     "output_type": "stream",
     "text": [
      "\u001b[32m2023-12-22 18:19:09.295\u001b[0m | \u001b[34m\u001b[1mDEBUG   \u001b[0m | \u001b[36mrecommender.recommenders.combined_recommender\u001b[0m:\u001b[36mfind_most_simmilar\u001b[0m:\u001b[36m40\u001b[0m - \u001b[34m\u001b[1mUser Based Recommendation took 2.4503719806671143\u001b[0m\n",
      "\u001b[32m2023-12-22 18:19:09.662\u001b[0m | \u001b[1mINFO    \u001b[0m | \u001b[36mrecommender.recommenders.content_based_recommender\u001b[0m:\u001b[36mget_scores\u001b[0m:\u001b[36m88\u001b[0m - \u001b[1mdirecor 0.36614084243774414\u001b[0m\n",
      "\u001b[32m2023-12-22 18:19:15.980\u001b[0m | \u001b[1mINFO    \u001b[0m | \u001b[36mrecommender.recommenders.content_based_recommender\u001b[0m:\u001b[36mget_scores\u001b[0m:\u001b[36m105\u001b[0m - \u001b[1mactors 6.316848278045654\u001b[0m\n",
      "\u001b[32m2023-12-22 18:19:16.315\u001b[0m | \u001b[1mINFO    \u001b[0m | \u001b[36mrecommender.recommenders.content_based_recommender\u001b[0m:\u001b[36mget_scores\u001b[0m:\u001b[36m114\u001b[0m - \u001b[1mplots 0.33469390869140625\u001b[0m\n",
      "\u001b[32m2023-12-22 18:19:16.316\u001b[0m | \u001b[1mINFO    \u001b[0m | \u001b[36mrecommender.recommenders.content_based_recommender\u001b[0m:\u001b[36mfind_most_simmilar\u001b[0m:\u001b[36m34\u001b[0m - \u001b[1mthe scores 7.019846200942993\u001b[0m\n",
      "\u001b[32m2023-12-22 18:19:16.317\u001b[0m | \u001b[34m\u001b[1mDEBUG   \u001b[0m | \u001b[36mrecommender.recommenders.combined_recommender\u001b[0m:\u001b[36mfind_most_simmilar\u001b[0m:\u001b[36m46\u001b[0m - \u001b[34m\u001b[1mContent Based Recommendation took 7.0210161209106445\u001b[0m\n",
      "[I 2023-12-22 18:19:16,329] Trial 49 finished with value: -3199978.0 and parameters: {'user': 68.17031766532608, 'content': 3.0858939912480023, 'closest_relevant_users': 3, 'directors': 8.391548728845226, 'actors': 1.8873937370079341, 'plots': 5.073617931736832}. Best is trial 31 with value: -4247816.0.\n"
     ]
    },
    {
     "name": "stdout",
     "output_type": "stream",
     "text": [
      "found  Fight Club\n",
      "14 125000 0 2\n",
      "found  Fargo\n",
      "10 117649 1 4\n",
      "found  Silence of the Lambs, The\n",
      "4 54872 12 7\n",
      "found  Schindler's List\n",
      "2 27000 20 8\n"
     ]
    }
   ],
   "source": [
    "\n",
    "study = optuna.create_study()\n",
    "study.optimize(objective, n_trials=50)"
   ]
  },
  {
   "cell_type": "code",
   "execution_count": 7,
   "metadata": {},
   "outputs": [
    {
     "data": {
      "text/plain": [
       "{'user': 31.696782262221433,\n",
       " 'content': 15.069030305424409,\n",
       " 'closest_relevant_users': 4,\n",
       " 'directors': 9.053375597465866,\n",
       " 'actors': 1.2301894300715557,\n",
       " 'plots': 2.406376778502906}"
      ]
     },
     "execution_count": 7,
     "metadata": {},
     "output_type": "execute_result"
    }
   ],
   "source": [
    "study.best_params"
   ]
  },
  {
   "cell_type": "code",
   "execution_count": 8,
   "metadata": {},
   "outputs": [
    {
     "name": "stderr",
     "output_type": "stream",
     "text": [
      "\u001b[32m2023-12-22 18:20:47.727\u001b[0m | \u001b[34m\u001b[1mDEBUG   \u001b[0m | \u001b[36mrecommender.recommenders.combined_recommender\u001b[0m:\u001b[36mfind_most_simmilar\u001b[0m:\u001b[36m40\u001b[0m - \u001b[34m\u001b[1mUser Based Recommendation took 12.935786008834839\u001b[0m\n",
      "\u001b[32m2023-12-22 18:20:48.080\u001b[0m | \u001b[1mINFO    \u001b[0m | \u001b[36mrecommender.recommenders.content_based_recommender\u001b[0m:\u001b[36mget_scores\u001b[0m:\u001b[36m88\u001b[0m - \u001b[1mdirecor 0.35257577896118164\u001b[0m\n",
      "\u001b[32m2023-12-22 18:20:53.954\u001b[0m | \u001b[1mINFO    \u001b[0m | \u001b[36mrecommender.recommenders.content_based_recommender\u001b[0m:\u001b[36mget_scores\u001b[0m:\u001b[36m105\u001b[0m - \u001b[1mactors 5.872028350830078\u001b[0m\n",
      "\u001b[32m2023-12-22 18:20:54.279\u001b[0m | \u001b[1mINFO    \u001b[0m | \u001b[36mrecommender.recommenders.content_based_recommender\u001b[0m:\u001b[36mget_scores\u001b[0m:\u001b[36m114\u001b[0m - \u001b[1mplots 0.3236210346221924\u001b[0m\n",
      "\u001b[32m2023-12-22 18:20:54.279\u001b[0m | \u001b[1mINFO    \u001b[0m | \u001b[36mrecommender.recommenders.content_based_recommender\u001b[0m:\u001b[36mfind_most_simmilar\u001b[0m:\u001b[36m34\u001b[0m - \u001b[1mthe scores 6.551568984985352\u001b[0m\n",
      "\u001b[32m2023-12-22 18:20:54.280\u001b[0m | \u001b[34m\u001b[1mDEBUG   \u001b[0m | \u001b[36mrecommender.recommenders.combined_recommender\u001b[0m:\u001b[36mfind_most_simmilar\u001b[0m:\u001b[36m46\u001b[0m - \u001b[34m\u001b[1mContent Based Recommendation took 6.5525689125061035\u001b[0m\n"
     ]
    }
   ],
   "source": [
    "weights = {\n",
    "    \"user\": 31.696782262221,\n",
    "    \"content\": 15.069030305424,\n",
    "    \"user_weights\": {\n",
    "        \"default_vec_val\": 2.5,\n",
    "        \"closest_relevant_users\": 4,\n",
    "    },\n",
    "    \"content_weights\": {\n",
    "        \"directors\":  9.0533755974,\n",
    "        \"actors\": 1.2301894300,\n",
    "        \"plots\": 2.406376778502906,\n",
    "    }\n",
    "}\n",
    "\n",
    "CombinedRecommender.weights = weights\n",
    "recommender = CombinedRecommender(db)\n",
    "recommendations = recommender.find_most_simmilar(EXAMPLE_MOVIES,MY_RATINGS)"
   ]
  },
  {
   "cell_type": "code",
   "execution_count": 9,
   "metadata": {},
   "outputs": [
    {
     "data": {
      "text/plain": [
       "['Reservoir Dogs',\n",
       " 'Fight Club',\n",
       " 'Green Mile, The',\n",
       " 'Fargo',\n",
       " 'Star Wars: Episode VI - Return of the Jedi',\n",
       " 'Star Wars: Episode V - The Empire Strikes Back',\n",
       " 'Goodfellas',\n",
       " 'Raiders of the Lost Ark (Indiana Jones and the Raiders of the Lost Ark)',\n",
       " 'Matrix, The',\n",
       " 'Django Unchained',\n",
       " 'Inception',\n",
       " 'Princess Bride, The',\n",
       " 'Usual Suspects, The',\n",
       " 'Dr. Strangelove or: How I Learned to Stop Worrying and Love the Bomb',\n",
       " 'Being John Malkovich',\n",
       " 'Batman Begins',\n",
       " 'Dunkirk',\n",
       " 'Toy Story 2',\n",
       " 'Rob Roy',\n",
       " 'Fugitive, The']"
      ]
     },
     "execution_count": 9,
     "metadata": {},
     "output_type": "execute_result"
    }
   ],
   "source": [
    "[i.title for i in recommendations[0][:20]]"
   ]
  }
 ],
 "metadata": {
  "kernelspec": {
   "display_name": "reco",
   "language": "python",
   "name": "python3"
  },
  "language_info": {
   "codemirror_mode": {
    "name": "ipython",
    "version": 3
   },
   "file_extension": ".py",
   "mimetype": "text/x-python",
   "name": "python",
   "nbconvert_exporter": "python",
   "pygments_lexer": "ipython3",
   "version": "3.10.13"
  }
 },
 "nbformat": 4,
 "nbformat_minor": 2
}
