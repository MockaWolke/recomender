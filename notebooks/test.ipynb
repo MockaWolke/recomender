{
 "cells": [
  {
   "cell_type": "code",
   "execution_count": 2,
   "metadata": {},
   "outputs": [],
   "source": [
    "from recommender.api import db\n",
    "from recommender.sql_models import *"
   ]
  },
  {
   "cell_type": "code",
   "execution_count": 4,
   "metadata": {},
   "outputs": [
    {
     "data": {
      "text/plain": [
       "['Tom Hanks',\n",
       " 'Tim Allen',\n",
       " 'Don Rickles',\n",
       " 'Jim Varney',\n",
       " 'Wallace Shawn',\n",
       " 'John Ratzenberger',\n",
       " 'Annie Potts',\n",
       " 'John Morris',\n",
       " 'Erik von Detten',\n",
       " 'Laurie Metcalf',\n",
       " 'R. Lee Ermey',\n",
       " 'Sarah Rayne',\n",
       " 'Penn Jillette',\n",
       " 'Jack Angel',\n",
       " 'Spencer Aste',\n",
       " 'Greg Berg',\n",
       " 'Lisa Bradley',\n",
       " 'Kendall Cunningham']"
      ]
     },
     "execution_count": 4,
     "metadata": {},
     "output_type": "execute_result"
    }
   ],
   "source": [
    "toy_story_actors = Actor.query.join(movie_actors, Actor.id == movie_actors.c.actor_id)\\\n",
    "                              .filter(movie_actors.c.movie_id == 1).all()\n",
    "[i.name for i in toy_story_actors]"
   ]
  },
  {
   "cell_type": "code",
   "execution_count": 6,
   "metadata": {},
   "outputs": [
    {
     "data": {
      "text/plain": [
       "['Toy Story',\n",
       " 'Apollo 13',\n",
       " 'Forrest Gump',\n",
       " 'Philadelphia',\n",
       " 'Sleepless in Seattle',\n",
       " 'That Thing You Do!',\n",
       " 'Saving Private Ryan',\n",
       " \"'burbs, The\",\n",
       " 'Splash',\n",
       " 'Money Pit, The',\n",
       " 'Nothing in Common',\n",
       " \"You've Got Mail\",\n",
       " 'Big',\n",
       " 'Return with Honor',\n",
       " 'Toy Story 2',\n",
       " 'Bonfire of the Vanities',\n",
       " 'Green Mile, The',\n",
       " 'League of Their Own, A',\n",
       " 'Volunteers',\n",
       " 'Bachelor Party',\n",
       " 'Punchline',\n",
       " 'Cast Away',\n",
       " 'Turner & Hooch',\n",
       " 'Joe Versus the Volcano',\n",
       " 'Road to Perdition',\n",
       " 'Catch Me If You Can',\n",
       " 'Dragnet',\n",
       " 'Polar Express, The',\n",
       " 'Da Vinci Code, The',\n",
       " 'Who Killed the Electric Car?',\n",
       " \"Charlie Wilson's War\",\n",
       " 'Great Buck Howard, The',\n",
       " 'Angels & Demons',\n",
       " 'Toy Story 3',\n",
       " 'Larry Crowne',\n",
       " 'Extremely Loud and Incredibly Close',\n",
       " 'Cloud Atlas']"
      ]
     },
     "execution_count": 6,
     "metadata": {},
     "output_type": "execute_result"
    }
   ],
   "source": [
    "# Find Tom Hanks' id\n",
    "tom_hanks_id = Actor.query.filter_by(name=\"Tom Hanks\").first().id\n",
    "\n",
    "# Query for movies with Tom Hanks\n",
    "tom_hanks_movies = Movie.query.join(movie_actors, Movie.id == movie_actors.c.movie_id)\\\n",
    "                              .filter(movie_actors.c.actor_id == tom_hanks_id).all()\n",
    "\n",
    "[i.title for i in tom_hanks_movies]"
   ]
  },
  {
   "cell_type": "code",
   "execution_count": 7,
   "metadata": {},
   "outputs": [],
   "source": [
    "movies_with_imdb = Movie.query.filter(Movie.imdb_data_id.isnot(None)).all()\n"
   ]
  },
  {
   "cell_type": "code",
   "execution_count": 9,
   "metadata": {},
   "outputs": [
    {
     "data": {
      "text/plain": [
       "<IMDbData 1>"
      ]
     },
     "execution_count": 9,
     "metadata": {},
     "output_type": "execute_result"
    }
   ],
   "source": [
    "movies_with_imdb[0].imdb_data"
   ]
  },
  {
   "cell_type": "code",
   "execution_count": null,
   "metadata": {},
   "outputs": [],
   "source": []
  }
 ],
 "metadata": {
  "kernelspec": {
   "display_name": "reco",
   "language": "python",
   "name": "python3"
  },
  "language_info": {
   "codemirror_mode": {
    "name": "ipython",
    "version": 3
   },
   "file_extension": ".py",
   "mimetype": "text/x-python",
   "name": "python",
   "nbconvert_exporter": "python",
   "pygments_lexer": "ipython3",
   "version": "3.10.13"
  }
 },
 "nbformat": 4,
 "nbformat_minor": 2
}
